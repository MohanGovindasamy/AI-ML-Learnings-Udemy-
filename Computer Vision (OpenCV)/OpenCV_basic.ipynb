{
 "cells": [
  {
   "cell_type": "markdown",
   "metadata": {},
   "source": [
    "# Open CV\n",
    "\n",
    "##### ---- Source Link : https://learnopencv.com/getting-started-with-opencv/"
   ]
  },
  {
   "cell_type": "markdown",
   "metadata": {},
   "source": [
    "### Check OpenCV installed in our machine"
   ]
  },
  {
   "cell_type": "code",
   "execution_count": null,
   "metadata": {},
   "outputs": [
    {
     "name": "stdout",
     "output_type": "stream",
     "text": [
      "Requirement already satisfied: opencv-python in c:\\users\\mohan govindasamy\\anaconda3\\lib\\site-packages (4.11.0.86)\n",
      "Requirement already satisfied: numpy>=1.21.2 in c:\\users\\mohan govindasamy\\anaconda3\\lib\\site-packages (from opencv-python) (1.26.4)\n",
      "Requirement already satisfied: opencv-contrib-python in c:\\users\\mohan govindasamy\\anaconda3\\lib\\site-packages (4.11.0.86)\n",
      "Requirement already satisfied: numpy>=1.21.2 in c:\\users\\mohan govindasamy\\anaconda3\\lib\\site-packages (from opencv-contrib-python) (1.26.4)\n"
     ]
    }
   ],
   "source": [
    "# Before start doing OpenCV, need to install using following commands, if you installed already, then ignore\n",
    "\n",
    "# In the terminal, install OpenCV using pip:\n",
    "! pip install opencv-python\n",
    "# Above line will install OpenCV into our directory\n",
    "\n",
    "# For additional OpenCV functionalities, install the contrib package:\n",
    "! pip install opencv-contrib-python"
   ]
  },
  {
   "cell_type": "markdown",
   "metadata": {},
   "source": [
    "#### Verify Installation OpenCV version: "
   ]
  },
  {
   "cell_type": "code",
   "execution_count": 21,
   "metadata": {},
   "outputs": [
    {
     "name": "stdout",
     "output_type": "stream",
     "text": [
      "4.11.0\n"
     ]
    }
   ],
   "source": [
    "import cv2\n",
    "print(cv2.__version__)"
   ]
  },
  {
   "cell_type": "markdown",
   "metadata": {
    "notebookRunGroups": {
     "groupValue": "2"
    }
   },
   "source": [
    "### <font color = 'yellow' >Read, Display and Write an Image using OpenCV </font>\n",
    "\n",
    "1. imread() helps us read an image\n",
    "2. imshow() displays an image in a window\n",
    "3. imwrite() writes an image into the file directory\n"
   ]
  },
  {
   "cell_type": "markdown",
   "metadata": {},
   "source": [
    "#### <font color = 'red'>Reading an Image </font>\n",
    "For reading an image, use the imread() function in OpenCV. Here’s the syntax: \n",
    "\n",
    "    imread(filename, flags)\n",
    "* The first argument is the image name, which requires a fully qualified pathname to the file.\n",
    "* The second argument is an optional flag that lets you specify how the image should be represented. \n",
    "1. cv2.IMREAD_UNCHANGED  or -1 :  Loads image as such including alpha channel\n",
    "2. cv2.IMREAD_GRAYSCALE  or 0 : Loads image in grayscale mode\n",
    "3. cv2.IMREAD_COLOR  or 1 : Loads a color image. "
   ]
  },
  {
   "cell_type": "markdown",
   "metadata": {},
   "source": [
    "#### <font color = 'red'>Displaying an Image </font>\n",
    "In OpenCV, you display an image using the imshow() function. Here’s the syntax: \n",
    "\n",
    "    imshow(window_name, image)\n",
    "This function also takes two arguments:\n",
    "* The first argument is the window name that will be displayed on the window.\n",
    "* The second argument is the image that you want to display. \n",
    "1. The imshow() function is designed to be used along  with the waitKey() and destroyAllWindows() / destroyWindow() functions. \n",
    "2. he waitKey() function is a keyboard-binding function. \n",
    "\n",
    "It takes a single argument, which is the time (in milliseconds), for which the window will be displayed.\n",
    "If the user presses any key within this time period, the program continues.\n",
    "If 0 is passed, the program waits indefinitely for a keystroke.\n",
    "You can also set the function to detect specific keystrokes like the Q key or the ESC key on the keyboard, thereby telling more explicitly which key shall trigger which behavior. \n",
    "The function destroyAllWindows() destroys all the windows we created. If a specific window needs to be destroyed, give that exact window name as the argument. Using destroyAllWindows() also clears the window or image from the main memory of the system.The code examples below show how the imshow() function is used to display the images you read in"
   ]
  },
  {
   "cell_type": "markdown",
   "metadata": {},
   "source": [
    "#### <font color = 'red'>Writing an Image </font>\n",
    "Finally, let’s discuss how to write/save an image into the file directory, using the imwrite() function. Check out its synta:\n",
    "    \n",
    "    imwrite(filename, image)\n",
    "\n",
    "* The first argument is the filename, which must include the filename extension (for example .png, .jpg etc). OpenCV uses this filename extension to specify the format of the file. \n",
    "* The second argument is the image you want to save. The function returns True if the image is saved successfully.\n",
    "\n",
    "Take a look at the code below. See how simple it is to write images to disk. Just specify the filename with its proper extension (with any desired path prepended).  Include the variable name that contains the image data, and you’re done. "
   ]
  },
  {
   "cell_type": "markdown",
   "metadata": {},
   "source": [
    "#### Grayscale"
   ]
  },
  {
   "cell_type": "code",
   "execution_count": 28,
   "metadata": {},
   "outputs": [
    {
     "data": {
      "text/plain": [
       "True"
      ]
     },
     "execution_count": 28,
     "metadata": {},
     "output_type": "execute_result"
    }
   ],
   "source": [
    "# import the cv2 library\n",
    "import cv2\n",
    " \n",
    "# The function cv2.imread() is used to read an image.\n",
    "img_grayscale = cv2.imread('./cat_1.jpg',0)\n",
    " \n",
    "# The function cv2.imshow() is used to display an image in a window.\n",
    "cv2.imshow('graycsale_image',img_grayscale)\n",
    " \n",
    "# waitKey() waits for a key press to close the window and 0 specifies indefinite loop\n",
    "cv2.waitKey(0)\n",
    " \n",
    "# cv2.destroyAllWindows() simply destroys all the windows we created.\n",
    "cv2.destroyAllWindows()\n",
    " \n",
    "# The function cv2.imwrite() is used to write an image.\n",
    "cv2.imwrite('grayscale.jpg',img_grayscale)"
   ]
  },
  {
   "cell_type": "markdown",
   "metadata": {},
   "source": [
    "#### Color"
   ]
  },
  {
   "cell_type": "code",
   "execution_count": 29,
   "metadata": {},
   "outputs": [
    {
     "data": {
      "text/plain": [
       "True"
      ]
     },
     "execution_count": 29,
     "metadata": {},
     "output_type": "execute_result"
    }
   ],
   "source": [
    "# import the cv2 library\n",
    "import cv2\n",
    " \n",
    "# The function cv2.imread() is used to read an image.\n",
    "img_color = cv2.imread('./cat_1.jpg',1)\n",
    " \n",
    "# The function cv2.imshow() is used to display an image in a window.\n",
    "cv2.imshow('color_noChange_image',img_color)\n",
    " \n",
    "# waitKey() waits for a key press to close the window and 0 specifies indefinite loop\n",
    "cv2.waitKey(0)\n",
    " \n",
    "# cv2.destroyAllWindows() simply destroys all the windows we created.\n",
    "cv2.destroyAllWindows()\n",
    " \n",
    "# The function cv2.imwrite() is used to write an image.\n",
    "cv2.imwrite('color_.jpg',img_color)"
   ]
  },
  {
   "cell_type": "markdown",
   "metadata": {},
   "source": [
    "#### Unchanged"
   ]
  },
  {
   "cell_type": "code",
   "execution_count": 30,
   "metadata": {},
   "outputs": [
    {
     "data": {
      "text/plain": [
       "True"
      ]
     },
     "execution_count": 30,
     "metadata": {},
     "output_type": "execute_result"
    }
   ],
   "source": [
    "# import the cv2 library\n",
    "import cv2\n",
    " \n",
    "# The function cv2.imread() is used to read an image.\n",
    "img_unchanged = cv2.imread('./cat_1.jpg',-1)\n",
    " \n",
    "# The function cv2.imshow() is used to display an image in a window.\n",
    "cv2.imshow('Unchanged Alpa Channel image',img_unchanged)\n",
    " \n",
    "# waitKey() waits for a key press to close the window and 0 specifies indefinite loop\n",
    "cv2.waitKey(0)\n",
    " \n",
    "# cv2.destroyAllWindows() simply destroys all the windows we created.\n",
    "cv2.destroyAllWindows()\n",
    " \n",
    "# The function cv2.imwrite() is used to write an image.\n",
    "cv2.imwrite('unchanged_appha.jpg',img_unchanged)"
   ]
  },
  {
   "cell_type": "markdown",
   "metadata": {},
   "source": [
    "### <font color=\"yellow\"> Reading and Writing Videos using OpenCV </font>\n",
    "\n",
    "Reading and writing videos in OpenCV is very similar to reading and writing images. A video is nothing but a series of images that are often referred to as frames. So, all you need to do is loop over all the frames in a video sequence, and then process one frame at a time. In this post, we will demonstrate how to read, display and write videos from a file, an image sequence and a webcam. We will also look into some of the errors that might occur in the process, and help understand how to resolve them.\n",
    "\n",
    "the main functions in OpenCV video I/O that are :\n",
    "\n",
    "1. cv2.VideoCapture – Creates a video capture object, which would help stream or display the video.\n",
    "2. cv2.VideoWriter – Saves the output video to a directory.\n",
    "\n",
    "In addition, also other needed functions such as cv2.imshow(), cv2.waitKey() and the get() method which is used to read the video metadata such as frame height, width, fps etc.\n",
    "\n",
    "get()\n",
    "| Integer | Constant                    | Property                                                                   |\n",
    "|---------|-----------------------------|---------------------------------------------------------------------------|\n",
    "| 0       | `cv2.CAP_PROP_POS_MSEC`     | Current position of the video in milliseconds.                            |\n",
    "| 1       | `cv2.CAP_PROP_POS_FRAMES`   | 0-based index of the current frame.                                       |\n",
    "| 2       | `cv2.CAP_PROP_POS_AVI_RATIO`| Relative position of the video (0=start, 1=end).                          |\n",
    "| 3       | `cv2.CAP_PROP_FRAME_WIDTH`  | Width of the frames in the video.                                         |\n",
    "| 4       | `cv2.CAP_PROP_FRAME_HEIGHT` | Height of the frames in the video.                                        |\n",
    "| 5       | `cv2.CAP_PROP_FPS`          | Frame rate of the video (frames per second).                              |\n",
    "| 6       | `cv2.CAP_PROP_FOURCC`       | 4-character code (codec) of the video stream.                             |\n",
    "| 7       | `cv2.CAP_PROP_FRAME_COUNT`  | Total number of frames in the video.                                      |\n",
    "| 8       | `cv2.CAP_PROP_FORMAT`       | Format of the Mat object (used internally by OpenCV).                     |\n",
    "| 9       | `cv2.CAP_PROP_MODE`         | Backend-specific value indicating the mode of the video capture.          |\n",
    "| 10      | `cv2.CAP_PROP_BRIGHTNESS`   | Brightness of the video (if supported by the camera or video).            |\n",
    "| 11      | `cv2.CAP_PROP_CONTRAST`     | Contrast of the video (if supported).                                     |\n",
    "| 12      | `cv2.CAP_PROP_SATURATION`   | Saturation of the video (if supported).                                   |\n",
    "| 13      | `cv2.CAP_PROP_HUE`          | Hue of the video (if supported).                                          |\n",
    "| 14      | `cv2.CAP_PROP_GAIN`         | Gain of the video (if supported).                                         |\n",
    "| 15      | `cv2.CAP_PROP_EXPOSURE`     | Exposure of the video (if supported).                                     |\n",
    "| 16      | `cv2.CAP_PROP_CONVERT_RGB`  | Boolean flag to indicate if the frames should be converted to RGB format. |\n",
    "| 17      | `cv2.CAP_PROP_RECTIFICATION`| Rectification flag for stereo cameras.                                    |\n"
   ]
  },
  {
   "cell_type": "code",
   "execution_count": null,
   "metadata": {},
   "outputs": [
    {
     "name": "stdout",
     "output_type": "stream",
     "text": [
      "Frame Rate :  25 frames per second\n",
      "Frame Count :  1501.0\n"
     ]
    }
   ],
   "source": [
    "# Import Libiraries\n",
    "import cv2\n",
    "\n",
    "# ---- Reading Video From a File using VideoCapture(path, apiPreference)\n",
    "# ---- Create a video capture object, in this case we are reading the video from a file\n",
    "vid_capture = cv2.VideoCapture('./cars_video.mp4')\n",
    "\n",
    "# ---- verify input video is valid or not? by using The isOpened() \n",
    "# this method returns a boolean that indicates whether or not the video stream is valid. Otherwise you will get an error message. \n",
    "if(vid_capture.isOpened() == False):\n",
    "    print('Given file is not valid / working condition, please check the input video file and or change file')\n",
    "else:\n",
    "    # ---- Can use the get() method to retrieve important metadata associated with the video stream. \n",
    "\n",
    "    # ---- Get frame rate information\n",
    "    fps = int(vid_capture.get(5)) # 5 | cv2.CAP_PROP_FPS | Frame rate of the video (frames per second).\n",
    "    print(\"Frame Rate : \",fps,\"frames per second\")\n",
    "\n",
    "    # ---- Get frame count\n",
    "    frame_count = vid_capture.get(7) # 7 | cv2.CAP_PROP_FRAME_COUNT | Total number of frames in the video.\n",
    "    print(\"Frame Count : \", frame_count)"
   ]
  }
 ],
 "metadata": {
  "kernelspec": {
   "display_name": "base",
   "language": "python",
   "name": "python3"
  },
  "language_info": {
   "codemirror_mode": {
    "name": "ipython",
    "version": 3
   },
   "file_extension": ".py",
   "mimetype": "text/x-python",
   "name": "python",
   "nbconvert_exporter": "python",
   "pygments_lexer": "ipython3",
   "version": "3.12.7"
  }
 },
 "nbformat": 4,
 "nbformat_minor": 2
}
