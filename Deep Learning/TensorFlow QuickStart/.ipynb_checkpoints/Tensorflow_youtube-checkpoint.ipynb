{
 "cells": [
  {
   "cell_type": "markdown",
   "id": "12262d56-d5eb-49d4-934e-e4402ddf9687",
   "metadata": {},
   "source": [
    "# Tensorflow from Youdube\n",
    "\n",
    "#### Find in youtubr link : https://youtube.com/playlist?list=PLeo1K3hjS3uu7CxAacxVndI4bE_o3BDtO&si=wJSM2PDm_YUjx5Gk"
   ]
  },
  {
   "cell_type": "markdown",
   "id": "02790e5d-60b9-4907-bd2b-be9f8f5fb06c",
   "metadata": {},
   "source": [
    "### Check tensorflow installed in your machine"
   ]
  },
  {
   "cell_type": "code",
   "execution_count": 58,
   "id": "3d5874dd-a6e7-46b8-9eaf-df8f03b58398",
   "metadata": {},
   "outputs": [],
   "source": [
    "# Before start doing tensorflow, need to install using following commands, if you installed already, then ignore\n",
    "# ! pip install tensorflow \n",
    "# Above line will install tensorflow into our directory"
   ]
  },
  {
   "cell_type": "markdown",
   "id": "6974b38a-5c06-43e6-b7fa-cc5ca5cdacc9",
   "metadata": {},
   "source": [
    "## Import Required Libiraries"
   ]
  },
  {
   "cell_type": "code",
   "execution_count": 59,
   "id": "1ca3eb09-dc91-481b-ac51-0fa068d33323",
   "metadata": {},
   "outputs": [],
   "source": [
    "# import tensorflow and Keras\n",
    "import tensorflow as tf\n",
    "from tensorflow import keras\n",
    "\n",
    "# import numpy as np and pandas as pd and matplotlib.pyplot as plt\n",
    "import numpy as np\n",
    "import pandas as pd\n",
    "import matplotlib.pyplot as plt"
   ]
  },
  {
   "cell_type": "markdown",
   "id": "025eb6fb-2a33-4702-b848-cdd17912f287",
   "metadata": {},
   "source": [
    "## Load dataset"
   ]
  },
  {
   "cell_type": "code",
   "execution_count": 60,
   "id": "cb66df63-352f-4cc8-8146-d8281602e132",
   "metadata": {},
   "outputs": [],
   "source": [
    "# Load dataset from keras > mnist dataset \n",
    "(x_train, y_train), (x_test, y_test) = keras.datasets.mnist.load_data()"
   ]
  },
  {
   "cell_type": "markdown",
   "id": "19aef794-c749-4f24-99d1-3a724b557088",
   "metadata": {},
   "source": [
    "#### Print values in console, view values"
   ]
  },
  {
   "cell_type": "code",
   "execution_count": 61,
   "id": "0ae70054-e78c-42a2-b062-d16d8abc0558",
   "metadata": {
    "jupyter": {
     "source_hidden": true
    }
   },
   "outputs": [
    {
     "name": "stdout",
     "output_type": "stream",
     "text": [
      "size of X training models :  60000\n",
      "size of X test models :  10000\n",
      "size of Y training models :  60000\n",
      "size of Y test models :  10000\n"
     ]
    }
   ],
   "source": [
    "print('size of X training models : ', len(x_train))\n",
    "print('size of X test models : ', len(x_test))\n",
    "print('size of Y training models : ', len(y_train))\n",
    "print('size of Y test models : ', len(y_test))"
   ]
  },
  {
   "cell_type": "markdown",
   "id": "c7a62234-93fd-437e-b19c-875a5af9e619",
   "metadata": {},
   "source": [
    "#### Shape of input"
   ]
  },
  {
   "cell_type": "code",
   "execution_count": 62,
   "id": "556b8abb-adb9-4d74-920a-f1774b7118c9",
   "metadata": {
    "jupyter": {
     "source_hidden": true
    }
   },
   "outputs": [
    {
     "name": "stdout",
     "output_type": "stream",
     "text": [
      "(28, 28)\n",
      "[[  0   0   0   0   0   0   0   0   0   0   0   0   0   0   0   0   0   0\n",
      "    0   0   0   0   0   0   0   0   0   0]\n",
      " [  0   0   0   0   0   0   0   0   0   0   0   0   0   0   0   0   0   0\n",
      "    0   0   0   0   0   0   0   0   0   0]\n",
      " [  0   0   0   0   0   0   0   0   0   0   0   0   0   0   0   0   0   0\n",
      "    0   0   0   0   0   0   0   0   0   0]\n",
      " [  0   0   0   0   0   0   0   0   0   0   0   0   0   0   0   0   0   0\n",
      "    0   0   0   0   0   0   0   0   0   0]\n",
      " [  0   0   0   0   0   0   0   0   0   0   0   0   0   0   0   0   0   0\n",
      "    0   0   0   0   0   0   0   0   0   0]\n",
      " [  0   0   0   0   0   0   0   0   0   0   0   0   3  18  18  18 126 136\n",
      "  175  26 166 255 247 127   0   0   0   0]\n",
      " [  0   0   0   0   0   0   0   0  30  36  94 154 170 253 253 253 253 253\n",
      "  225 172 253 242 195  64   0   0   0   0]\n",
      " [  0   0   0   0   0   0   0  49 238 253 253 253 253 253 253 253 253 251\n",
      "   93  82  82  56  39   0   0   0   0   0]\n",
      " [  0   0   0   0   0   0   0  18 219 253 253 253 253 253 198 182 247 241\n",
      "    0   0   0   0   0   0   0   0   0   0]\n",
      " [  0   0   0   0   0   0   0   0  80 156 107 253 253 205  11   0  43 154\n",
      "    0   0   0   0   0   0   0   0   0   0]\n",
      " [  0   0   0   0   0   0   0   0   0  14   1 154 253  90   0   0   0   0\n",
      "    0   0   0   0   0   0   0   0   0   0]\n",
      " [  0   0   0   0   0   0   0   0   0   0   0 139 253 190   2   0   0   0\n",
      "    0   0   0   0   0   0   0   0   0   0]\n",
      " [  0   0   0   0   0   0   0   0   0   0   0  11 190 253  70   0   0   0\n",
      "    0   0   0   0   0   0   0   0   0   0]\n",
      " [  0   0   0   0   0   0   0   0   0   0   0   0  35 241 225 160 108   1\n",
      "    0   0   0   0   0   0   0   0   0   0]\n",
      " [  0   0   0   0   0   0   0   0   0   0   0   0   0  81 240 253 253 119\n",
      "   25   0   0   0   0   0   0   0   0   0]\n",
      " [  0   0   0   0   0   0   0   0   0   0   0   0   0   0  45 186 253 253\n",
      "  150  27   0   0   0   0   0   0   0   0]\n",
      " [  0   0   0   0   0   0   0   0   0   0   0   0   0   0   0  16  93 252\n",
      "  253 187   0   0   0   0   0   0   0   0]\n",
      " [  0   0   0   0   0   0   0   0   0   0   0   0   0   0   0   0   0 249\n",
      "  253 249  64   0   0   0   0   0   0   0]\n",
      " [  0   0   0   0   0   0   0   0   0   0   0   0   0   0  46 130 183 253\n",
      "  253 207   2   0   0   0   0   0   0   0]\n",
      " [  0   0   0   0   0   0   0   0   0   0   0   0  39 148 229 253 253 253\n",
      "  250 182   0   0   0   0   0   0   0   0]\n",
      " [  0   0   0   0   0   0   0   0   0   0  24 114 221 253 253 253 253 201\n",
      "   78   0   0   0   0   0   0   0   0   0]\n",
      " [  0   0   0   0   0   0   0   0  23  66 213 253 253 253 253 198  81   2\n",
      "    0   0   0   0   0   0   0   0   0   0]\n",
      " [  0   0   0   0   0   0  18 171 219 253 253 253 253 195  80   9   0   0\n",
      "    0   0   0   0   0   0   0   0   0   0]\n",
      " [  0   0   0   0  55 172 226 253 253 253 253 244 133  11   0   0   0   0\n",
      "    0   0   0   0   0   0   0   0   0   0]\n",
      " [  0   0   0   0 136 253 253 253 212 135 132  16   0   0   0   0   0   0\n",
      "    0   0   0   0   0   0   0   0   0   0]\n",
      " [  0   0   0   0   0   0   0   0   0   0   0   0   0   0   0   0   0   0\n",
      "    0   0   0   0   0   0   0   0   0   0]\n",
      " [  0   0   0   0   0   0   0   0   0   0   0   0   0   0   0   0   0   0\n",
      "    0   0   0   0   0   0   0   0   0   0]\n",
      " [  0   0   0   0   0   0   0   0   0   0   0   0   0   0   0   0   0   0\n",
      "    0   0   0   0   0   0   0   0   0   0]]\n"
     ]
    }
   ],
   "source": [
    "# it gives dimention as 28 * 28 pixel image  \n",
    "print(x_train[0].shape)\n",
    "\n",
    "# it give actual image in representations 0 to 255 pixel (0 - black, 255 - White)\n",
    "print(x_train[0])\n"
   ]
  },
  {
   "cell_type": "markdown",
   "id": "18682911-4bfa-4e79-91b3-998b483cad7b",
   "metadata": {},
   "source": [
    "#### Display i sample / train input"
   ]
  },
  {
   "cell_type": "code",
   "execution_count": 63,
   "id": "23fe25f6-c4b4-45f8-b82e-bfa0bdfab3c2",
   "metadata": {},
   "outputs": [
    {
     "name": "stdout",
     "output_type": "stream",
     "text": [
      "Displaying x_train[2] in console\n"
     ]
    },
    {
     "data": {
      "image/png": "[encoded data removed]",
      "text/plain": [
       "<Figure size 480x480 with 1 Axes>"
      ]
     },
     "metadata": {},
     "output_type": "display_data"
    },
    {
     "name": "stdout",
     "output_type": "stream",
     "text": [
      "Displaying y_train[2] in console\n",
      "4\n"
     ]
    }
   ],
   "source": [
    "i = 2\n",
    "#  display ith possition image\n",
    "print(f\"Displaying x_train[{i}] in console\")\n",
    "plt.matshow(x_train[i])\n",
    "plt.show()\n",
    "\n",
    "# display respective output in y train\n",
    "print(f\"Displaying y_train[{i}] in console\")\n",
    "print(y_train[i])"
   ]
  },
  {
   "cell_type": "markdown",
   "id": "6f81b165-d91e-4676-8993-b466f475ce7b",
   "metadata": {},
   "source": [
    "## Feature Scalling"
   ]
  },
  {
   "cell_type": "markdown",
   "id": "3491841d-66d5-4277-acdf-9bb6d1a2140d",
   "metadata": {},
   "source": [
    "#### Reshape input"
   ]
  },
  {
   "cell_type": "code",
   "execution_count": 64,
   "id": "944f103c-adaa-418b-8c5d-1a89d1f8e0fb",
   "metadata": {},
   "outputs": [
    {
     "name": "stdout",
     "output_type": "stream",
     "text": [
      "Values of x_train[2] now is\n",
      " [[[0. 0. 0. ... 0. 0. 0.]\n",
      "  [0. 0. 0. ... 0. 0. 0.]\n",
      "  [0. 0. 0. ... 0. 0. 0.]\n",
      "  ...\n",
      "  [0. 0. 0. ... 0. 0. 0.]\n",
      "  [0. 0. 0. ... 0. 0. 0.]\n",
      "  [0. 0. 0. ... 0. 0. 0.]]\n",
      "\n",
      " [[0. 0. 0. ... 0. 0. 0.]\n",
      "  [0. 0. 0. ... 0. 0. 0.]\n",
      "  [0. 0. 0. ... 0. 0. 0.]\n",
      "  ...\n",
      "  [0. 0. 0. ... 0. 0. 0.]\n",
      "  [0. 0. 0. ... 0. 0. 0.]\n",
      "  [0. 0. 0. ... 0. 0. 0.]]\n",
      "\n",
      " [[0. 0. 0. ... 0. 0. 0.]\n",
      "  [0. 0. 0. ... 0. 0. 0.]\n",
      "  [0. 0. 0. ... 0. 0. 0.]\n",
      "  ...\n",
      "  [0. 0. 0. ... 0. 0. 0.]\n",
      "  [0. 0. 0. ... 0. 0. 0.]\n",
      "  [0. 0. 0. ... 0. 0. 0.]]\n",
      "\n",
      " ...\n",
      "\n",
      " [[0. 0. 0. ... 0. 0. 0.]\n",
      "  [0. 0. 0. ... 0. 0. 0.]\n",
      "  [0. 0. 0. ... 0. 0. 0.]\n",
      "  ...\n",
      "  [0. 0. 0. ... 0. 0. 0.]\n",
      "  [0. 0. 0. ... 0. 0. 0.]\n",
      "  [0. 0. 0. ... 0. 0. 0.]]\n",
      "\n",
      " [[0. 0. 0. ... 0. 0. 0.]\n",
      "  [0. 0. 0. ... 0. 0. 0.]\n",
      "  [0. 0. 0. ... 0. 0. 0.]\n",
      "  ...\n",
      "  [0. 0. 0. ... 0. 0. 0.]\n",
      "  [0. 0. 0. ... 0. 0. 0.]\n",
      "  [0. 0. 0. ... 0. 0. 0.]]\n",
      "\n",
      " [[0. 0. 0. ... 0. 0. 0.]\n",
      "  [0. 0. 0. ... 0. 0. 0.]\n",
      "  [0. 0. 0. ... 0. 0. 0.]\n",
      "  ...\n",
      "  [0. 0. 0. ... 0. 0. 0.]\n",
      "  [0. 0. 0. ... 0. 0. 0.]\n",
      "  [0. 0. 0. ... 0. 0. 0.]]]\n",
      "Values of x_test[2] now is\n",
      " [[[0. 0. 0. ... 0. 0. 0.]\n",
      "  [0. 0. 0. ... 0. 0. 0.]\n",
      "  [0. 0. 0. ... 0. 0. 0.]\n",
      "  ...\n",
      "  [0. 0. 0. ... 0. 0. 0.]\n",
      "  [0. 0. 0. ... 0. 0. 0.]\n",
      "  [0. 0. 0. ... 0. 0. 0.]]\n",
      "\n",
      " [[0. 0. 0. ... 0. 0. 0.]\n",
      "  [0. 0. 0. ... 0. 0. 0.]\n",
      "  [0. 0. 0. ... 0. 0. 0.]\n",
      "  ...\n",
      "  [0. 0. 0. ... 0. 0. 0.]\n",
      "  [0. 0. 0. ... 0. 0. 0.]\n",
      "  [0. 0. 0. ... 0. 0. 0.]]\n",
      "\n",
      " [[0. 0. 0. ... 0. 0. 0.]\n",
      "  [0. 0. 0. ... 0. 0. 0.]\n",
      "  [0. 0. 0. ... 0. 0. 0.]\n",
      "  ...\n",
      "  [0. 0. 0. ... 0. 0. 0.]\n",
      "  [0. 0. 0. ... 0. 0. 0.]\n",
      "  [0. 0. 0. ... 0. 0. 0.]]\n",
      "\n",
      " ...\n",
      "\n",
      " [[0. 0. 0. ... 0. 0. 0.]\n",
      "  [0. 0. 0. ... 0. 0. 0.]\n",
      "  [0. 0. 0. ... 0. 0. 0.]\n",
      "  ...\n",
      "  [0. 0. 0. ... 0. 0. 0.]\n",
      "  [0. 0. 0. ... 0. 0. 0.]\n",
      "  [0. 0. 0. ... 0. 0. 0.]]\n",
      "\n",
      " [[0. 0. 0. ... 0. 0. 0.]\n",
      "  [0. 0. 0. ... 0. 0. 0.]\n",
      "  [0. 0. 0. ... 0. 0. 0.]\n",
      "  ...\n",
      "  [0. 0. 0. ... 0. 0. 0.]\n",
      "  [0. 0. 0. ... 0. 0. 0.]\n",
      "  [0. 0. 0. ... 0. 0. 0.]]\n",
      "\n",
      " [[0. 0. 0. ... 0. 0. 0.]\n",
      "  [0. 0. 0. ... 0. 0. 0.]\n",
      "  [0. 0. 0. ... 0. 0. 0.]\n",
      "  ...\n",
      "  [0. 0. 0. ... 0. 0. 0.]\n",
      "  [0. 0. 0. ... 0. 0. 0.]\n",
      "  [0. 0. 0. ... 0. 0. 0.]]]\n",
      "before flatened x_train shape (2D) (60000, 28, 28)\n",
      "before flatened x_train shape (2D) (10000, 28, 28)\n",
      "\n",
      "x_train_flatened shape (1D) :  (60000, 784)\n",
      "x_test_flatened shape (1D) :  (10000, 784)\n",
      "\n",
      "x_train_flatened[2] as (1D) : \n",
      " [0.         0.         0.         0.         0.         0.\n",
      " 0.         0.         0.         0.         0.         0.\n",
      " 0.         0.         0.         0.         0.         0.\n",
      " 0.         0.         0.         0.         0.         0.\n",
      " 0.         0.         0.         0.         0.         0.\n",
      " 0.         0.         0.         0.         0.         0.\n",
      " 0.         0.         0.         0.         0.         0.\n",
      " 0.         0.         0.         0.         0.         0.\n",
      " 0.         0.         0.         0.         0.         0.\n",
      " 0.         0.         0.         0.         0.         0.\n",
      " 0.         0.         0.         0.         0.         0.\n",
      " 0.         0.         0.         0.         0.         0.\n",
      " 0.         0.         0.         0.         0.         0.\n",
      " 0.         0.         0.         0.         0.         0.\n",
      " 0.         0.         0.         0.         0.         0.\n",
      " 0.         0.         0.         0.         0.         0.\n",
      " 0.         0.         0.         0.         0.         0.\n",
      " 0.         0.         0.         0.         0.         0.\n",
      " 0.         0.         0.         0.         0.         0.\n",
      " 0.         0.         0.         0.         0.         0.\n",
      " 0.         0.         0.         0.         0.         0.\n",
      " 0.         0.         0.         0.         0.         0.\n",
      " 0.         0.         0.         0.         0.         0.\n",
      " 0.         0.         0.         0.         0.         0.\n",
      " 0.         0.         0.         0.         0.         0.\n",
      " 0.         0.         0.         0.         0.         0.\n",
      " 0.         0.         0.         0.         0.2627451  0.90980392\n",
      " 0.15294118 0.         0.         0.         0.         0.\n",
      " 0.         0.         0.         0.         0.24313725 0.31764706\n",
      " 0.         0.         0.         0.         0.         0.\n",
      " 0.         0.         0.         0.         0.         0.\n",
      " 0.         0.         0.47058824 0.70588235 0.15294118 0.\n",
      " 0.         0.         0.         0.         0.         0.\n",
      " 0.         0.         0.49411765 0.63921569 0.         0.\n",
      " 0.         0.         0.         0.         0.         0.\n",
      " 0.         0.         0.         0.         0.         0.00784314\n",
      " 0.6        0.82352941 0.15686275 0.         0.         0.\n",
      " 0.         0.         0.         0.         0.         0.\n",
      " 0.8627451  0.63921569 0.         0.         0.         0.\n",
      " 0.         0.         0.         0.         0.         0.\n",
      " 0.         0.         0.         0.10588235 0.99607843 0.63529412\n",
      " 0.         0.         0.         0.         0.         0.\n",
      " 0.         0.         0.         0.         0.87058824 0.63921569\n",
      " 0.         0.         0.         0.         0.         0.\n",
      " 0.         0.         0.         0.         0.         0.\n",
      " 0.         0.71764706 0.99607843 0.49019608 0.         0.\n",
      " 0.         0.         0.         0.         0.         0.\n",
      " 0.         0.18039216 0.96078431 0.63921569 0.         0.\n",
      " 0.         0.         0.         0.         0.         0.\n",
      " 0.         0.         0.         0.         0.         0.77647059\n",
      " 0.99607843 0.21960784 0.         0.         0.         0.\n",
      " 0.         0.         0.         0.         0.         0.47058824\n",
      " 0.99607843 0.63921569 0.         0.         0.         0.\n",
      " 0.         0.         0.         0.         0.         0.\n",
      " 0.         0.         0.09019608 0.90588235 0.99607843 0.11372549\n",
      " 0.         0.         0.         0.         0.         0.\n",
      " 0.         0.         0.         0.62352941 0.99607843 0.47058824\n",
      " 0.         0.         0.         0.         0.         0.\n",
      " 0.         0.         0.         0.         0.         0.\n",
      " 0.63921569 0.99607843 0.84705882 0.0627451  0.         0.\n",
      " 0.         0.         0.         0.         0.         0.\n",
      " 0.         0.62352941 0.99607843 0.2627451  0.         0.\n",
      " 0.         0.         0.         0.         0.         0.\n",
      " 0.         0.05490196 0.3372549  0.69803922 0.97254902 0.99607843\n",
      " 0.35686275 0.         0.         0.         0.         0.\n",
      " 0.         0.         0.         0.         0.         0.62352941\n",
      " 0.99607843 0.33333333 0.         0.         0.         0.18431373\n",
      " 0.19215686 0.45490196 0.56470588 0.58823529 0.94509804 0.95294118\n",
      " 0.91764706 0.70196078 0.94509804 0.98823529 0.15686275 0.\n",
      " 0.         0.         0.         0.         0.         0.\n",
      " 0.         0.         0.         0.58823529 0.99215686 0.92941176\n",
      " 0.81176471 0.81176471 0.81176471 0.99215686 0.99607843 0.98039216\n",
      " 0.94117647 0.77647059 0.56078431 0.35686275 0.10980392 0.01960784\n",
      " 0.91372549 0.98039216 0.         0.         0.         0.\n",
      " 0.         0.         0.         0.         0.         0.\n",
      " 0.         0.         0.46666667 0.69411765 0.69411765 0.69411765\n",
      " 0.69411765 0.69411765 0.38431373 0.21960784 0.         0.\n",
      " 0.         0.         0.         0.4        0.99607843 0.8627451\n",
      " 0.         0.         0.         0.         0.         0.\n",
      " 0.         0.         0.         0.         0.         0.\n",
      " 0.         0.         0.         0.         0.         0.\n",
      " 0.         0.         0.         0.         0.         0.\n",
      " 0.         0.6627451  0.99607843 0.5372549  0.         0.\n",
      " 0.         0.         0.         0.         0.         0.\n",
      " 0.         0.         0.         0.         0.         0.\n",
      " 0.         0.         0.         0.         0.         0.\n",
      " 0.         0.         0.         0.         0.         0.6627451\n",
      " 0.99607843 0.22352941 0.         0.         0.         0.\n",
      " 0.         0.         0.         0.         0.         0.\n",
      " 0.         0.         0.         0.         0.         0.\n",
      " 0.         0.         0.         0.         0.         0.\n",
      " 0.         0.         0.         0.6627451  0.99607843 0.22352941\n",
      " 0.         0.         0.         0.         0.         0.\n",
      " 0.         0.         0.         0.         0.         0.\n",
      " 0.         0.         0.         0.         0.         0.\n",
      " 0.         0.         0.         0.         0.         0.\n",
      " 0.         0.6627451  1.         0.36862745 0.         0.\n",
      " 0.         0.         0.         0.         0.         0.\n",
      " 0.         0.         0.         0.         0.         0.\n",
      " 0.         0.         0.         0.         0.         0.\n",
      " 0.         0.         0.         0.         0.         0.6627451\n",
      " 0.99607843 0.37647059 0.         0.         0.         0.\n",
      " 0.         0.         0.         0.         0.         0.\n",
      " 0.         0.         0.         0.         0.         0.\n",
      " 0.         0.         0.         0.         0.         0.\n",
      " 0.         0.         0.         0.6627451  0.99607843 0.6\n",
      " 0.         0.         0.         0.         0.         0.\n",
      " 0.         0.         0.         0.         0.         0.\n",
      " 0.         0.         0.         0.         0.         0.\n",
      " 0.         0.         0.         0.         0.         0.\n",
      " 0.         0.6627451  1.         0.6        0.         0.\n",
      " 0.         0.         0.         0.         0.         0.\n",
      " 0.         0.         0.         0.         0.         0.\n",
      " 0.         0.         0.         0.         0.         0.\n",
      " 0.         0.         0.         0.         0.         0.37647059\n",
      " 0.99607843 0.6        0.         0.         0.         0.\n",
      " 0.         0.         0.         0.         0.         0.\n",
      " 0.         0.         0.         0.         0.         0.\n",
      " 0.         0.         0.         0.         0.         0.\n",
      " 0.         0.         0.         0.         0.         0.\n",
      " 0.         0.         0.         0.         0.         0.\n",
      " 0.         0.         0.         0.         0.         0.\n",
      " 0.         0.         0.         0.         0.         0.\n",
      " 0.         0.         0.         0.         0.         0.\n",
      " 0.         0.         0.         0.         0.         0.\n",
      " 0.         0.         0.         0.         0.         0.\n",
      " 0.         0.         0.         0.         0.         0.\n",
      " 0.         0.         0.         0.         0.         0.\n",
      " 0.         0.         0.         0.         0.         0.\n",
      " 0.         0.         0.         0.         0.         0.\n",
      " 0.         0.         0.         0.        ]\n",
      "\n",
      "x_test_flatened[2] as (1D) : \n",
      " [0.         0.         0.         0.         0.         0.\n",
      " 0.         0.         0.         0.         0.         0.\n",
      " 0.         0.         0.         0.         0.         0.\n",
      " 0.         0.         0.         0.         0.         0.\n",
      " 0.         0.         0.         0.         0.         0.\n",
      " 0.         0.         0.         0.         0.         0.\n",
      " 0.         0.         0.         0.         0.         0.\n",
      " 0.         0.         0.         0.         0.         0.\n",
      " 0.         0.         0.         0.         0.         0.\n",
      " 0.         0.         0.         0.         0.         0.\n",
      " 0.         0.         0.         0.         0.         0.\n",
      " 0.         0.         0.         0.         0.         0.\n",
      " 0.         0.         0.         0.         0.         0.\n",
      " 0.         0.         0.         0.         0.         0.\n",
      " 0.         0.         0.         0.         0.         0.\n",
      " 0.         0.         0.         0.         0.         0.\n",
      " 0.         0.         0.         0.         0.         0.\n",
      " 0.         0.         0.         0.         0.         0.\n",
      " 0.         0.         0.         0.         0.         0.\n",
      " 0.         0.         0.         0.         0.         0.\n",
      " 0.         0.         0.         0.         0.         0.\n",
      " 0.         0.         0.14901961 0.99607843 0.42745098 0.\n",
      " 0.         0.         0.         0.         0.         0.\n",
      " 0.         0.         0.         0.         0.         0.\n",
      " 0.         0.         0.         0.         0.         0.\n",
      " 0.         0.         0.         0.         0.         0.\n",
      " 0.34117647 0.98823529 0.32156863 0.         0.         0.\n",
      " 0.         0.         0.         0.         0.         0.\n",
      " 0.         0.         0.         0.         0.         0.\n",
      " 0.         0.         0.         0.         0.         0.\n",
      " 0.         0.         0.         0.         0.52941176 0.94509804\n",
      " 0.         0.         0.         0.         0.         0.\n",
      " 0.         0.         0.         0.         0.         0.\n",
      " 0.         0.         0.         0.         0.         0.\n",
      " 0.         0.         0.         0.         0.         0.\n",
      " 0.         0.17647059 0.95686275 0.58823529 0.         0.\n",
      " 0.         0.         0.         0.         0.         0.\n",
      " 0.         0.         0.         0.         0.         0.\n",
      " 0.         0.         0.         0.         0.         0.\n",
      " 0.         0.         0.         0.         0.         0.32941176\n",
      " 0.99607843 0.24705882 0.         0.         0.         0.\n",
      " 0.         0.         0.         0.         0.         0.\n",
      " 0.         0.         0.         0.         0.         0.\n",
      " 0.         0.         0.         0.         0.         0.\n",
      " 0.         0.         0.         0.79215686 0.8745098  0.04313725\n",
      " 0.         0.         0.         0.         0.         0.\n",
      " 0.         0.         0.         0.         0.         0.\n",
      " 0.         0.         0.         0.         0.         0.\n",
      " 0.         0.         0.         0.         0.         0.\n",
      " 0.1254902  0.99607843 0.84705882 0.         0.         0.\n",
      " 0.         0.         0.         0.         0.         0.\n",
      " 0.         0.         0.         0.         0.         0.\n",
      " 0.         0.         0.         0.         0.         0.\n",
      " 0.         0.         0.         0.         0.37254902 0.99607843\n",
      " 0.76470588 0.         0.         0.         0.         0.\n",
      " 0.         0.         0.         0.         0.         0.\n",
      " 0.         0.         0.         0.         0.         0.\n",
      " 0.         0.         0.         0.         0.         0.\n",
      " 0.         0.         0.54901961 0.99607843 0.30196078 0.\n",
      " 0.         0.         0.         0.         0.         0.\n",
      " 0.         0.         0.         0.         0.         0.\n",
      " 0.         0.         0.         0.         0.         0.\n",
      " 0.         0.         0.         0.         0.         0.22352941\n",
      " 0.92941176 0.80392157 0.03137255 0.         0.         0.\n",
      " 0.         0.         0.         0.         0.         0.\n",
      " 0.         0.         0.         0.         0.         0.\n",
      " 0.         0.         0.         0.         0.         0.\n",
      " 0.         0.         0.         0.48627451 1.         0.64705882\n",
      " 0.         0.         0.         0.         0.         0.\n",
      " 0.         0.         0.         0.         0.         0.\n",
      " 0.         0.         0.         0.         0.         0.\n",
      " 0.         0.         0.         0.         0.         0.\n",
      " 0.         0.67058824 0.99607843 0.31764706 0.         0.\n",
      " 0.         0.         0.         0.         0.         0.\n",
      " 0.         0.         0.         0.         0.         0.\n",
      " 0.         0.         0.         0.         0.         0.\n",
      " 0.         0.         0.         0.         0.09411765 0.90980392\n",
      " 0.84313725 0.         0.         0.         0.         0.\n",
      " 0.         0.         0.         0.         0.         0.\n",
      " 0.         0.         0.         0.         0.         0.\n",
      " 0.         0.         0.         0.         0.         0.\n",
      " 0.         0.         0.47058824 0.99607843 0.62352941 0.\n",
      " 0.         0.         0.         0.         0.         0.\n",
      " 0.         0.         0.         0.         0.         0.\n",
      " 0.         0.         0.         0.         0.         0.\n",
      " 0.         0.         0.         0.         0.         0.\n",
      " 0.59215686 0.99607843 0.55686275 0.         0.         0.\n",
      " 0.         0.         0.         0.         0.         0.\n",
      " 0.         0.         0.         0.         0.         0.\n",
      " 0.         0.         0.         0.         0.         0.\n",
      " 0.         0.         0.         0.         0.89411765 0.99607843\n",
      " 0.25882353 0.         0.         0.         0.         0.\n",
      " 0.         0.         0.         0.         0.         0.\n",
      " 0.         0.         0.         0.         0.         0.\n",
      " 0.         0.         0.         0.         0.         0.\n",
      " 0.         0.23921569 0.98431373 0.99607843 0.25882353 0.\n",
      " 0.         0.         0.         0.         0.         0.\n",
      " 0.         0.         0.         0.         0.         0.\n",
      " 0.         0.         0.         0.         0.         0.\n",
      " 0.         0.         0.         0.         0.         0.55294118\n",
      " 0.99607843 0.80392157 0.01176471 0.         0.         0.\n",
      " 0.         0.         0.         0.         0.         0.\n",
      " 0.         0.         0.         0.         0.         0.\n",
      " 0.         0.         0.         0.         0.         0.\n",
      " 0.         0.         0.03921569 0.84313725 0.99607843 0.4745098\n",
      " 0.         0.         0.         0.         0.         0.\n",
      " 0.         0.         0.         0.         0.         0.\n",
      " 0.         0.         0.         0.         0.         0.\n",
      " 0.         0.         0.         0.         0.         0.\n",
      " 0.01960784 0.77647059 0.69019608 0.03921569 0.         0.\n",
      " 0.         0.         0.         0.         0.         0.\n",
      " 0.         0.         0.         0.         0.         0.\n",
      " 0.         0.         0.         0.         0.         0.\n",
      " 0.         0.         0.         0.         0.         0.\n",
      " 0.         0.         0.         0.         0.         0.\n",
      " 0.         0.         0.         0.         0.         0.\n",
      " 0.         0.         0.         0.         0.         0.\n",
      " 0.         0.         0.         0.         0.         0.\n",
      " 0.         0.         0.         0.         0.         0.\n",
      " 0.         0.         0.         0.         0.         0.\n",
      " 0.         0.         0.         0.         0.         0.\n",
      " 0.         0.         0.         0.         0.         0.\n",
      " 0.         0.         0.         0.         0.         0.\n",
      " 0.         0.         0.         0.         0.         0.\n",
      " 0.         0.         0.         0.         0.         0.\n",
      " 0.         0.         0.         0.         0.         0.\n",
      " 0.         0.         0.         0.         0.         0.\n",
      " 0.         0.         0.         0.         0.         0.\n",
      " 0.         0.         0.         0.         0.         0.\n",
      " 0.         0.         0.         0.         0.         0.\n",
      " 0.         0.         0.         0.        ]\n"
     ]
    }
   ],
   "source": [
    "# Normalize the pixel values of the images to be between 0 and 1 by dividing by 255\n",
    "# in out tensorflow dataset having pixel values is 0 to 255 so Division by 255\n",
    "x_train, x_test = x_train / 255.0, x_test / 255.0\n",
    "print(f\"Values of x_train[{i}] now is\\n\",x_train)\n",
    "print(f\"Values of x_test[{i}] now is\\n\",x_test)\n",
    "\n",
    "# Print dimention of X_train in console\n",
    "print(\"before flatened x_train shape (2D)\", x_train.shape) # (60000, 28, 28) = 60000 images, 28*28 is the dimention of pixels\n",
    "print(\"before flatened x_train shape (2D)\", x_test.shape) # (60000, 28, 28) = 10000 images, 28*28 is the dimention of pixels\n",
    "\n",
    "# by reshaping  x_train as 2D to 1D array\n",
    "x_train_flatened = x_train.reshape(len(x_train), 28*28)\n",
    "x_test_flatened = x_test.reshape(len(x_test), 28*28)\n",
    "\n",
    "# Display value in console\n",
    "print()\n",
    "print(\"x_train_flatened shape (1D) : \", x_train_flatened.shape)\n",
    "print(\"x_test_flatened shape (1D) : \",x_test_flatened.shape)\n",
    "\n",
    "# Display 1st values\n",
    "print(f\"\\nx_train_flatened[{i}] as (1D) : \\n\", x_train_flatened[i])\n",
    "print(f\"\\nx_test_flatened[{i}] as (1D) : \\n\", x_test_flatened[i])"
   ]
  },
  {
   "cell_type": "markdown",
   "id": "ae07beb8-d0be-432d-85a6-21ccd85985cb",
   "metadata": {},
   "source": [
    "## Build Model"
   ]
  },
  {
   "cell_type": "markdown",
   "id": "8b49ef27-ce15-4bc4-b049-4c75a831b4fc",
   "metadata": {},
   "source": [
    "#### Build Neural Network model using tensorflow keras"
   ]
  },
  {
   "cell_type": "code",
   "execution_count": 65,
   "id": "53d785cd-99e6-48a7-b9dd-9680f21af7d7",
   "metadata": {},
   "outputs": [
    {
     "name": "stderr",
     "output_type": "stream",
     "text": [
      "C:\\Users\\Mohan Govindasamy\\AppData\\Roaming\\Python\\Python312\\site-packages\\keras\\src\\layers\\core\\dense.py:87: UserWarning: Do not pass an `input_shape`/`input_dim` argument to a layer. When using Sequential models, prefer using an `Input(shape)` object as the first layer in the model instead.\n",
      "  super().__init__(activity_regularizer=activity_regularizer, **kwargs)\n"
     ]
    }
   ],
   "source": [
    "# Step 1: Create a Sequential model, (Stack of layer in neural n/w - since it's stach, every layer is 1 element )\n",
    "model = keras.Sequential([\n",
    "    # Step 2: Add the output layer with 10 neurons (one for each digit), input shape is 784 (28*28) and activation function\n",
    "    keras.layers.Dense(\n",
    "        10, # Output layers\n",
    "        input_shape = (28*28,), # Input layers\n",
    "        activation = 'sigmoid' # activation type\n",
    "    )    \n",
    "])"
   ]
  },
  {
   "cell_type": "markdown",
   "id": "c53f58c4-0220-4a54-9e4b-eae0b8c7fcb6",
   "metadata": {},
   "source": [
    "#### Complile that neural n/w"
   ]
  },
  {
   "cell_type": "code",
   "execution_count": 66,
   "id": "f8b43342-b2b2-43a9-a3c1-80c4151d5d62",
   "metadata": {},
   "outputs": [],
   "source": [
    "# Complile that neural n/w\n",
    "model.compile(\n",
    "    optimizer = \"adam\",\n",
    "    loss = 'sparse_categorical_crossentropy',\n",
    "    metrics= ['accuracy']\n",
    "    \n",
    ")"
   ]
  },
  {
   "cell_type": "markdown",
   "id": "2d01ba6e-533f-4f85-880e-c114b67809be",
   "metadata": {},
   "source": [
    "#### Fit into the model using Train Data Set"
   ]
  },
  {
   "cell_type": "code",
   "execution_count": 67,
   "id": "be23aef6-ec6e-4c3b-9c07-fa8b637b8043",
   "metadata": {},
   "outputs": [
    {
     "name": "stdout",
     "output_type": "stream",
     "text": [
      "Epoch 1/5\n",
      "\u001b[1m1875/1875\u001b[0m \u001b[32m━━━━━━━━━━━━━━━━━━━━\u001b[0m\u001b[37m\u001b[0m \u001b[1m6s\u001b[0m 3ms/step - accuracy: 0.8197 - loss: 0.7110\n",
      "Epoch 2/5\n",
      "\u001b[1m1875/1875\u001b[0m \u001b[32m━━━━━━━━━━━━━━━━━━━━\u001b[0m\u001b[37m\u001b[0m \u001b[1m7s\u001b[0m 4ms/step - accuracy: 0.9127 - loss: 0.3141\n",
      "Epoch 3/5\n",
      "\u001b[1m1875/1875\u001b[0m \u001b[32m━━━━━━━━━━━━━━━━━━━━\u001b[0m\u001b[37m\u001b[0m \u001b[1m7s\u001b[0m 3ms/step - accuracy: 0.9211 - loss: 0.2847\n",
      "Epoch 4/5\n",
      "\u001b[1m1875/1875\u001b[0m \u001b[32m━━━━━━━━━━━━━━━━━━━━\u001b[0m\u001b[37m\u001b[0m \u001b[1m7s\u001b[0m 4ms/step - accuracy: 0.9233 - loss: 0.2722\n",
      "Epoch 5/5\n",
      "\u001b[1m1875/1875\u001b[0m \u001b[32m━━━━━━━━━━━━━━━━━━━━\u001b[0m\u001b[37m\u001b[0m \u001b[1m5s\u001b[0m 3ms/step - accuracy: 0.9277 - loss: 0.2611\n"
     ]
    },
    {
     "data": {
      "text/plain": [
       "<keras.src.callbacks.history.History at 0x1b8b635ab10>"
      ]
     },
     "execution_count": 67,
     "metadata": {},
     "output_type": "execute_result"
    }
   ],
   "source": [
    "# fit into model (epochs=5 means  it will ittrate 5 times)\n",
    "model.fit(x_train_flatened, y_train, epochs=5)"
   ]
  },
  {
   "cell_type": "markdown",
   "id": "095059d5-0834-451e-868d-b7e404ea6790",
   "metadata": {},
   "source": [
    "#### Evaluate model using Test Data set"
   ]
  },
  {
   "cell_type": "code",
   "execution_count": 68,
   "id": "ec959158-8fdd-476a-a630-7292eae5ce41",
   "metadata": {},
   "outputs": [
    {
     "name": "stdout",
     "output_type": "stream",
     "text": [
      "\u001b[1m313/313\u001b[0m \u001b[32m━━━━━━━━━━━━━━━━━━━━\u001b[0m\u001b[37m\u001b[0m \u001b[1m1s\u001b[0m 2ms/step - accuracy: 0.9153 - loss: 0.3050\n"
     ]
    },
    {
     "data": {
      "text/plain": [
       "[0.2707250118255615, 0.9251000285148621]"
      ]
     },
     "execution_count": 68,
     "metadata": {},
     "output_type": "execute_result"
    }
   ],
   "source": [
    "model.evaluate(x_test_flatened, y_test)"
   ]
  },
  {
   "cell_type": "markdown",
   "id": "5381476f-7065-4456-a447-2d190e40e34e",
   "metadata": {},
   "source": [
    "## Sample Predection"
   ]
  },
  {
   "cell_type": "markdown",
   "id": "5deb2f8a-0108-4749-814d-697eab89925f",
   "metadata": {},
   "source": [
    "#### Predict test samples"
   ]
  },
  {
   "cell_type": "code",
   "execution_count": 69,
   "id": "f9e278a1-8724-4dab-abf4-6bb3d7d91d77",
   "metadata": {},
   "outputs": [
    {
     "name": "stdout",
     "output_type": "stream",
     "text": [
      "\u001b[1m313/313\u001b[0m \u001b[32m━━━━━━━━━━━━━━━━━━━━\u001b[0m\u001b[37m\u001b[0m \u001b[1m1s\u001b[0m 2ms/step\n"
     ]
    }
   ],
   "source": [
    "# predict test samples with our model\n",
    "y_pred = model.predict(x_test_flatened)"
   ]
  },
  {
   "cell_type": "markdown",
   "id": "bd7cba12-9429-4c4e-a0bf-899a2a2d8768",
   "metadata": {},
   "source": [
    "#### display i th values"
   ]
  },
  {
   "cell_type": "code",
   "execution_count": 70,
   "id": "1a28daf1-a109-43ae-9e8e-0a60a45da8c2",
   "metadata": {},
   "outputs": [
    {
     "name": "stdout",
     "output_type": "stream",
     "text": [
      "Displaying y_pred[(3465,)] in console 1D array of 10 values (Dense o/p layes = 10)\n",
      "[7.6593693e-05 6.1629034e-05 2.8053471e-03 7.9060709e-01 9.9671680e-01\n",
      " 1.6814204e-02 1.7774724e-03 6.6797696e-02 1.9051965e-01 4.3958551e-01]\n",
      "\n",
      "In the above o/p, Maximum values for y_pred[(3465,)] is:\n"
     ]
    },
    {
     "data": {
      "text/plain": [
       "4"
      ]
     },
     "execution_count": 70,
     "metadata": {},
     "output_type": "execute_result"
    }
   ],
   "source": [
    "# change I values as wish it will be possition of array alone not actual values\n",
    "i = 3465,\n",
    "\n",
    "# this will print 10 values in 1D array, because we give output dense layer as 10\n",
    "print(f\"Displaying y_pred[{i}] in console 1D array of 10 values (Dense o/p layes = 10)\")\n",
    "print(y_pred[i])\n",
    "\n",
    "# in 1D array / y_pred[i], maximum values (consider predected -> o/p will be high)\n",
    "print(f\"\\nIn the above o/p, Maximum values for y_pred[{i}] is:\")\n",
    "np.argmax(y_pred[i])"
   ]
  },
  {
   "cell_type": "markdown",
   "id": "d2656b76-2ff9-4415-9ad2-85b038b70712",
   "metadata": {},
   "source": [
    "#### display image that predection"
   ]
  },
  {
   "cell_type": "code",
   "execution_count": 71,
   "id": "7687dc1e-4fc5-43ff-9e3e-e2a717f34e7b",
   "metadata": {},
   "outputs": [
    {
     "name": "stdout",
     "output_type": "stream",
     "text": [
      "Displaying x_test[(3465,)] in console\n"
     ]
    },
    {
     "data": {
      "image/png": "[encoded data removed]",
      "text/plain": [
       "<Figure size 480x480 with 1 Axes>"
      ]
     },
     "metadata": {},
     "output_type": "display_data"
    }
   ],
   "source": [
    "# display ith immage\n",
    "#  display ith possition image\n",
    "print(f\"Displaying x_test[{i}] in console\")\n",
    "plt.matshow(x_test[i])\n",
    "plt.show()"
   ]
  },
  {
   "cell_type": "markdown",
   "id": "f9a5e88a-54ae-4468-8edf-d7a9fbf4df5b",
   "metadata": {},
   "source": [
    "## Confusion Matrix"
   ]
  },
  {
   "cell_type": "code",
   "execution_count": 72,
   "id": "2f98fb7a-dcb6-4d1f-be42-72f1d0ba6032",
   "metadata": {},
   "outputs": [
    {
     "name": "stdout",
     "output_type": "stream",
     "text": [
      "First 5 prect values is:\n",
      " [7, 2, 1, 0, 4]\n",
      "First 5 actual values is:\n",
      " [7 2 1 0 4]\n",
      "\n",
      "Confusion Matrix is:\n",
      " tf.Tensor(\n",
      "[[ 959    0    1    2    0    5    9    2    2    0]\n",
      " [   0 1109    3    2    0    1    4    2   14    0]\n",
      " [   7    8  911   20    9    3   13   10   47    4]\n",
      " [   3    0   13  932    1   15    3   10   25    8]\n",
      " [   1    1    2    2  916    0   13    3    8   36]\n",
      " [   9    3    2   43   12  754   20    8   36    5]\n",
      " [   9    3    3    2    7    6  923    2    3    0]\n",
      " [   1    5   20    8    8    0    0  952    3   31]\n",
      " [   5    5    5   22    9   16   11   13  877   11]\n",
      " [  10    5    1    9   30    5    0   22    9  918]], shape=(10, 10), dtype=int32)\n"
     ]
    },
    {
     "data": {
      "image/png": "[encoded data removed]",
      "text/plain": [
       "<Figure size 1000x700 with 2 Axes>"
      ]
     },
     "metadata": {},
     "output_type": "display_data"
    }
   ],
   "source": [
    "# Confution matrix values\n",
    "# First convert y_pred values to 1D with correct predection values\n",
    "y_pred_label = [np.argmax(i) for i in y_pred] # this line will ittreate and store prection value into new array\n",
    "print(\"First 5 prect values is:\\n\", y_pred_label[:5])\n",
    "\n",
    "# now print actual values\n",
    "print(\"First 5 actual values is:\\n\", y_test[:5])\n",
    "\n",
    "# now check with confusion matrics with y_test & y_pred_label\n",
    "confusion_metrics = tf.math.confusion_matrix(labels=y_test, predictions=y_pred_label)\n",
    "print(\"\\nConfusion Matrix is:\\n\", confusion_metrics)\n",
    "\n",
    "# Display in visuvalisation\n",
    "import seaborn as sn\n",
    "plt.figure(figsize=(10,7))\n",
    "sn.heatmap(confusion_metrics, annot=True, fmt= 'd')\n",
    "plt.xlabel(\"Predection\")\n",
    "plt.ylabel(\"Actual\")\n",
    "plt.show()\n"
   ]
  },
  {
   "cell_type": "markdown",
   "id": "cb5ce865-3f8a-4755-a226-578214c57344",
   "metadata": {},
   "source": [
    "## Build Model with Hidden Layer"
   ]
  },
  {
   "cell_type": "code",
   "execution_count": 73,
   "id": "3ffd69f1-bb99-44b8-9f3d-4436a7952cc1",
   "metadata": {},
   "outputs": [
    {
     "name": "stderr",
     "output_type": "stream",
     "text": [
      "C:\\Users\\Mohan Govindasamy\\AppData\\Roaming\\Python\\Python312\\site-packages\\keras\\src\\layers\\core\\dense.py:87: UserWarning: Do not pass an `input_shape`/`input_dim` argument to a layer. When using Sequential models, prefer using an `Input(shape)` object as the first layer in the model instead.\n",
      "  super().__init__(activity_regularizer=activity_regularizer, **kwargs)\n"
     ]
    },
    {
     "name": "stdout",
     "output_type": "stream",
     "text": [
      "Epoch 1/10\n",
      "\u001b[1m1875/1875\u001b[0m \u001b[32m━━━━━━━━━━━━━━━━━━━━\u001b[0m\u001b[37m\u001b[0m \u001b[1m11s\u001b[0m 5ms/step - accuracy: 0.8821 - loss: 0.4139\n",
      "Epoch 2/10\n",
      "\u001b[1m1875/1875\u001b[0m \u001b[32m━━━━━━━━━━━━━━━━━━━━\u001b[0m\u001b[37m\u001b[0m \u001b[1m11s\u001b[0m 6ms/step - accuracy: 0.9665 - loss: 0.1159\n",
      "Epoch 3/10\n",
      "\u001b[1m1875/1875\u001b[0m \u001b[32m━━━━━━━━━━━━━━━━━━━━\u001b[0m\u001b[37m\u001b[0m \u001b[1m12s\u001b[0m 6ms/step - accuracy: 0.9772 - loss: 0.0758\n",
      "Epoch 4/10\n",
      "\u001b[1m1875/1875\u001b[0m \u001b[32m━━━━━━━━━━━━━━━━━━━━\u001b[0m\u001b[37m\u001b[0m \u001b[1m14s\u001b[0m 7ms/step - accuracy: 0.9834 - loss: 0.0541\n",
      "Epoch 5/10\n",
      "\u001b[1m1875/1875\u001b[0m \u001b[32m━━━━━━━━━━━━━━━━━━━━\u001b[0m\u001b[37m\u001b[0m \u001b[1m14s\u001b[0m 8ms/step - accuracy: 0.9868 - loss: 0.0418\n",
      "Epoch 6/10\n",
      "\u001b[1m1875/1875\u001b[0m \u001b[32m━━━━━━━━━━━━━━━━━━━━\u001b[0m\u001b[37m\u001b[0m \u001b[1m20s\u001b[0m 8ms/step - accuracy: 0.9897 - loss: 0.0329\n",
      "Epoch 7/10\n",
      "\u001b[1m1875/1875\u001b[0m \u001b[32m━━━━━━━━━━━━━━━━━━━━\u001b[0m\u001b[37m\u001b[0m \u001b[1m13s\u001b[0m 7ms/step - accuracy: 0.9929 - loss: 0.0240\n",
      "Epoch 8/10\n",
      "\u001b[1m1875/1875\u001b[0m \u001b[32m━━━━━━━━━━━━━━━━━━━━\u001b[0m\u001b[37m\u001b[0m \u001b[1m11s\u001b[0m 6ms/step - accuracy: 0.9938 - loss: 0.0202\n",
      "Epoch 9/10\n",
      "\u001b[1m1875/1875\u001b[0m \u001b[32m━━━━━━━━━━━━━━━━━━━━\u001b[0m\u001b[37m\u001b[0m \u001b[1m18s\u001b[0m 9ms/step - accuracy: 0.9949 - loss: 0.0170\n",
      "Epoch 10/10\n",
      "\u001b[1m1875/1875\u001b[0m \u001b[32m━━━━━━━━━━━━━━━━━━━━\u001b[0m\u001b[37m\u001b[0m \u001b[1m17s\u001b[0m 9ms/step - accuracy: 0.9964 - loss: 0.0124\n"
     ]
    },
    {
     "data": {
      "text/plain": [
       "<keras.src.callbacks.history.History at 0x1b8b8f85b80>"
      ]
     },
     "execution_count": 73,
     "metadata": {},
     "output_type": "execute_result"
    }
   ],
   "source": [
    "# Step 1: Create a Sequential model, (Stack of layer in neural n/w - since it's stach, every layer is 1 element )\n",
    "model = keras.Sequential([\n",
    "    # Step 2: Add hidden Layer 1 with the output layer a n neurons, input shape is 784 (28*28) and activation function\n",
    "    keras.layers.Dense(\n",
    "        150, # Output layers for 1st hidden layer\n",
    "        input_shape = (28*28,), # Input layers\n",
    "        activation = 'relu' # activation type\n",
    "    ), \n",
    "\n",
    "    # Step 3: Add the output layer with 10 neurons (one for each digit), and activation function\n",
    "    keras.layers.Dense(\n",
    "        10, # Output layers for last hidden layer o/p (Note: for last layer no need for input layer size)\n",
    "        activation = 'sigmoid' # activation type\n",
    "    )\n",
    "])\n",
    "\n",
    "# Complile that neural n/w\n",
    "model.compile(\n",
    "    optimizer = \"adam\",\n",
    "    loss = 'sparse_categorical_crossentropy',\n",
    "    metrics= ['accuracy']\n",
    "    \n",
    ")\n",
    "\n",
    "# fit into model (epochs=5 means  it will ittrate 5 times)\n",
    "model.fit(x_train_flatened, y_train, epochs=10)"
   ]
  },
  {
   "cell_type": "markdown",
   "id": "dd582d41-031a-4909-aea5-b85380f80c2e",
   "metadata": {},
   "source": [
    "#### Evaluate model"
   ]
  },
  {
   "cell_type": "code",
   "execution_count": 74,
   "id": "6c232478-ce20-4e49-895a-07c6ed20a78f",
   "metadata": {},
   "outputs": [
    {
     "name": "stdout",
     "output_type": "stream",
     "text": [
      "\u001b[1m313/313\u001b[0m \u001b[32m━━━━━━━━━━━━━━━━━━━━\u001b[0m\u001b[37m\u001b[0m \u001b[1m3s\u001b[0m 7ms/step - accuracy: 0.9747 - loss: 0.0964\n"
     ]
    },
    {
     "data": {
      "text/plain": [
       "[0.07981327176094055, 0.979200005531311]"
      ]
     },
     "execution_count": 74,
     "metadata": {},
     "output_type": "execute_result"
    }
   ],
   "source": [
    "model.evaluate(x_test_flatened, y_test)"
   ]
  },
  {
   "cell_type": "markdown",
   "id": "dbc958ee-3e1e-4da8-a0cd-8fdcc675d57d",
   "metadata": {},
   "source": [
    "#### Predict with test"
   ]
  },
  {
   "cell_type": "code",
   "execution_count": 75,
   "id": "9809fcda-563f-4b88-81a4-20192f59598f",
   "metadata": {},
   "outputs": [
    {
     "name": "stdout",
     "output_type": "stream",
     "text": [
      "\u001b[1m313/313\u001b[0m \u001b[32m━━━━━━━━━━━━━━━━━━━━\u001b[0m\u001b[37m\u001b[0m \u001b[1m2s\u001b[0m 5ms/step\n"
     ]
    }
   ],
   "source": [
    "# predict test samples with our model\n",
    "y_pred = model.predict(x_test_flatened)"
   ]
  },
  {
   "cell_type": "markdown",
   "id": "9048b362-b751-4618-95e7-247dbda26da0",
   "metadata": {},
   "source": [
    "#### Confusion Matrics"
   ]
  },
  {
   "cell_type": "code",
   "execution_count": 76,
   "id": "74dffff4-38bc-46c5-926f-39480855d31b",
   "metadata": {
    "scrolled": true
   },
   "outputs": [
    {
     "name": "stdout",
     "output_type": "stream",
     "text": [
      "First 5 prect values is:\n",
      " [7, 2, 1, 0, 4]\n",
      "First 5 actual values is:\n",
      " [7 2 1 0 4]\n",
      "\n",
      "Confusion Matrix is:\n",
      " tf.Tensor(\n",
      "[[ 969    1    1    0    1    3    2    1    1    1]\n",
      " [   0 1126    3    1    0    1    2    1    1    0]\n",
      " [   1    3 1005    3    4    1    2    8    4    1]\n",
      " [   0    0    5  987    0    7    0    5    0    6]\n",
      " [   2    1    2    1  948    0    6    5    1   16]\n",
      " [   2    0    0    7    1  873    2    2    5    0]\n",
      " [   3    2    1    1    4    3  941    1    2    0]\n",
      " [   0    2    7    1    0    0    0 1011    3    4]\n",
      " [   2    0    4    5    4    4    0    4  949    2]\n",
      " [   1    2    0    1    6    4    0    8    4  983]], shape=(10, 10), dtype=int32)\n"
     ]
    },
    {
     "data": {
      "image/png": "[encoded data removed]",
      "text/plain": [
       "<Figure size 1000x700 with 2 Axes>"
      ]
     },
     "metadata": {},
     "output_type": "display_data"
    }
   ],
   "source": [
    "# Confution matrix values\n",
    "# First convert y_pred values to 1D with correct predection values\n",
    "y_pred_label = [np.argmax(i) for i in y_pred] # this line will ittreate and store prection value into new array\n",
    "print(\"First 5 prect values is:\\n\", y_pred_label[:5])\n",
    "\n",
    "# now print actual values\n",
    "print(\"First 5 actual values is:\\n\", y_test[:5])\n",
    "\n",
    "# now check with confusion matrics with y_test & y_pred_label\n",
    "confusion_metrics = tf.math.confusion_matrix(labels=y_test, predictions=y_pred_label)\n",
    "print(\"\\nConfusion Matrix is:\\n\", confusion_metrics)\n",
    "\n",
    "# Display in visuvalisation\n",
    "import seaborn as sn\n",
    "plt.figure(figsize=(10,7))\n",
    "sn.heatmap(confusion_metrics, annot=True, fmt= 'd')\n",
    "plt.xlabel(\"Predection\")\n",
    "plt.ylabel(\"Actual\")\n",
    "plt.show()\n"
   ]
  },
  {
   "cell_type": "markdown",
   "id": "292b6848-2eab-4050-acbc-06009c1c914b",
   "metadata": {},
   "source": [
    "## Build Model with Hidden Layer and directly flatern x_train into model"
   ]
  },
  {
   "cell_type": "code",
   "execution_count": 77,
   "id": "5b733385-6a42-424c-a604-37c2fdd8329f",
   "metadata": {},
   "outputs": [
    {
     "name": "stderr",
     "output_type": "stream",
     "text": [
      "C:\\Users\\Mohan Govindasamy\\AppData\\Roaming\\Python\\Python312\\site-packages\\keras\\src\\layers\\reshaping\\flatten.py:37: UserWarning: Do not pass an `input_shape`/`input_dim` argument to a layer. When using Sequential models, prefer using an `Input(shape)` object as the first layer in the model instead.\n",
      "  super().__init__(**kwargs)\n"
     ]
    },
    {
     "name": "stdout",
     "output_type": "stream",
     "text": [
      "Epoch 1/10\n",
      "\u001b[1m1875/1875\u001b[0m \u001b[32m━━━━━━━━━━━━━━━━━━━━\u001b[0m\u001b[37m\u001b[0m \u001b[1m20s\u001b[0m 10ms/step - accuracy: 0.8832 - loss: 0.4148\n",
      "Epoch 2/10\n",
      "\u001b[1m1875/1875\u001b[0m \u001b[32m━━━━━━━━━━━━━━━━━━━━\u001b[0m\u001b[37m\u001b[0m \u001b[1m17s\u001b[0m 9ms/step - accuracy: 0.9681 - loss: 0.1120\n",
      "Epoch 3/10\n",
      "\u001b[1m1875/1875\u001b[0m \u001b[32m━━━━━━━━━━━━━━━━━━━━\u001b[0m\u001b[37m\u001b[0m \u001b[1m14s\u001b[0m 7ms/step - accuracy: 0.9776 - loss: 0.0745\n",
      "Epoch 4/10\n",
      "\u001b[1m1875/1875\u001b[0m \u001b[32m━━━━━━━━━━━━━━━━━━━━\u001b[0m\u001b[37m\u001b[0m \u001b[1m16s\u001b[0m 8ms/step - accuracy: 0.9837 - loss: 0.0552\n",
      "Epoch 5/10\n",
      "\u001b[1m1875/1875\u001b[0m \u001b[32m━━━━━━━━━━━━━━━━━━━━\u001b[0m\u001b[37m\u001b[0m \u001b[1m15s\u001b[0m 8ms/step - accuracy: 0.9882 - loss: 0.0392\n",
      "Epoch 6/10\n",
      "\u001b[1m1875/1875\u001b[0m \u001b[32m━━━━━━━━━━━━━━━━━━━━\u001b[0m\u001b[37m\u001b[0m \u001b[1m12s\u001b[0m 6ms/step - accuracy: 0.9912 - loss: 0.0294\n",
      "Epoch 7/10\n",
      "\u001b[1m1875/1875\u001b[0m \u001b[32m━━━━━━━━━━━━━━━━━━━━\u001b[0m\u001b[37m\u001b[0m \u001b[1m11s\u001b[0m 6ms/step - accuracy: 0.9921 - loss: 0.0258\n",
      "Epoch 8/10\n",
      "\u001b[1m1875/1875\u001b[0m \u001b[32m━━━━━━━━━━━━━━━━━━━━\u001b[0m\u001b[37m\u001b[0m \u001b[1m13s\u001b[0m 7ms/step - accuracy: 0.9947 - loss: 0.0181\n",
      "Epoch 9/10\n",
      "\u001b[1m1875/1875\u001b[0m \u001b[32m━━━━━━━━━━━━━━━━━━━━\u001b[0m\u001b[37m\u001b[0m \u001b[1m16s\u001b[0m 8ms/step - accuracy: 0.9960 - loss: 0.0144\n",
      "Epoch 10/10\n",
      "\u001b[1m1875/1875\u001b[0m \u001b[32m━━━━━━━━━━━━━━━━━━━━\u001b[0m\u001b[37m\u001b[0m \u001b[1m11s\u001b[0m 6ms/step - accuracy: 0.9964 - loss: 0.0119\n"
     ]
    },
    {
     "data": {
      "text/plain": [
       "<keras.src.callbacks.history.History at 0x1b8b90abfb0>"
      ]
     },
     "execution_count": 77,
     "metadata": {},
     "output_type": "execute_result"
    }
   ],
   "source": [
    "# Step 1: Create a Sequential model, (Stack of layer in neural n/w - since it's stach, every layer is 1 element )\n",
    "model = keras.Sequential([\n",
    "    # Ste 2: Flattern x_train vlues (convert 2d to 1d by using flatten)\n",
    "    keras.layers.Flatten(input_shape = (28,28) ),\n",
    "    \n",
    "    # Step 2: Add hidden Layer 1 with the output layer a n neurons, and activation function\n",
    "    keras.layers.Dense(\n",
    "        150, # Output layers for 1st hidden layer (Note: for first layer no need for input layer size, it will assign on it's own)\n",
    "        activation = 'relu' # activation type\n",
    "    ), \n",
    "\n",
    "    # Step 3: Add the output layer with 10 neurons (one for each digit), and activation function\n",
    "    keras.layers.Dense(\n",
    "        10, # Output layers for last hidden layer o/p (Note: for first layer no need for input layer size, it will assign on it's own)\n",
    "        activation = 'softmax' # activation type\n",
    "    )\n",
    "])\n",
    "\n",
    "# Complile that neural n/w\n",
    "model.compile(\n",
    "    optimizer = \"adam\",\n",
    "    loss = 'sparse_categorical_crossentropy',\n",
    "    metrics= ['accuracy']\n",
    "    \n",
    ")\n",
    "\n",
    "# fit into model (epochs=5 means  it will ittrate 5 times)\n",
    "model.fit(x_train, y_train, epochs=10)"
   ]
  },
  {
   "cell_type": "markdown",
   "id": "2ec3bf6d-364d-4c9f-907d-f5c81dad0a1e",
   "metadata": {},
   "source": [
    "#### Evaluate model"
   ]
  },
  {
   "cell_type": "code",
   "execution_count": 78,
   "id": "8847b355-178b-4dca-b638-ed6cf4f23117",
   "metadata": {},
   "outputs": [
    {
     "name": "stdout",
     "output_type": "stream",
     "text": [
      "\u001b[1m313/313\u001b[0m \u001b[32m━━━━━━━━━━━━━━━━━━━━\u001b[0m\u001b[37m\u001b[0m \u001b[1m2s\u001b[0m 4ms/step - accuracy: 0.9757 - loss: 0.0860\n"
     ]
    },
    {
     "data": {
      "text/plain": [
       "[0.07063380628824234, 0.9811999797821045]"
      ]
     },
     "execution_count": 78,
     "metadata": {},
     "output_type": "execute_result"
    }
   ],
   "source": [
    "model.evaluate(x_test, y_test)"
   ]
  },
  {
   "cell_type": "markdown",
   "id": "e8c6ff39-30ce-40a1-b1e6-25f4856726b2",
   "metadata": {},
   "source": [
    "#### Predict with test"
   ]
  },
  {
   "cell_type": "code",
   "execution_count": 79,
   "id": "089b06df-b942-4202-ba06-888c67ee6eb7",
   "metadata": {},
   "outputs": [
    {
     "name": "stdout",
     "output_type": "stream",
     "text": [
      "\u001b[1m313/313\u001b[0m \u001b[32m━━━━━━━━━━━━━━━━━━━━\u001b[0m\u001b[37m\u001b[0m \u001b[1m1s\u001b[0m 4ms/step\n"
     ]
    }
   ],
   "source": [
    "# predict test samples with our model\n",
    "y_pred = model.predict(x_test)"
   ]
  },
  {
   "cell_type": "markdown",
   "id": "b9521436-b34a-41d6-b606-47270cad451e",
   "metadata": {},
   "source": [
    "#### Confusion Matrics"
   ]
  },
  {
   "cell_type": "code",
   "execution_count": 80,
   "id": "cb29f9eb-9755-4a92-9423-84281b3e7e98",
   "metadata": {
    "scrolled": true
   },
   "outputs": [
    {
     "name": "stdout",
     "output_type": "stream",
     "text": [
      "First 5 prect values is:\n",
      " [7, 2, 1, 0, 4]\n",
      "First 5 actual values is:\n",
      " [7 2 1 0 4]\n",
      "\n",
      "Confusion Matrix is:\n",
      " tf.Tensor(\n",
      "[[ 971    1    0    0    1    0    3    1    3    0]\n",
      " [   0 1125    2    3    0    1    2    0    2    0]\n",
      " [   5    1 1007    1    1    0    2    7    7    1]\n",
      " [   0    0    1  991    0    5    0    6    6    1]\n",
      " [   0    0    5    0  967    0    1    3    1    5]\n",
      " [   3    0    1   10    0  862    3    3    9    1]\n",
      " [   4    2    2    1    4    2  942    1    0    0]\n",
      " [   1    3    6    1    0    0    0 1008    3    6]\n",
      " [   3    0    2    1    2    1    2    6  956    1]\n",
      " [   2    2    0    4    7    1    0    9    1  983]], shape=(10, 10), dtype=int32)\n"
     ]
    },
    {
     "data": {
      "image/png": "[encoded data removed]",
      "text/plain": [
       "<Figure size 1000x700 with 2 Axes>"
      ]
     },
     "metadata": {},
     "output_type": "display_data"
    }
   ],
   "source": [
    "# Confution matrix values\n",
    "# First convert y_pred values to 1D with correct predection values\n",
    "y_pred_label = [np.argmax(i) for i in y_pred] # this line will ittreate and store prection value into new array\n",
    "print(\"First 5 prect values is:\\n\", y_pred_label[:5])\n",
    "\n",
    "# now print actual values\n",
    "print(\"First 5 actual values is:\\n\", y_test[:5])\n",
    "\n",
    "# now check with confusion matrics with y_test & y_pred_label\n",
    "confusion_metrics = tf.math.confusion_matrix(labels=y_test, predictions=y_pred_label)\n",
    "print(\"\\nConfusion Matrix is:\\n\", confusion_metrics)\n",
    "\n",
    "# Display in visuvalisation\n",
    "import seaborn as sn\n",
    "plt.figure(figsize=(10,7))\n",
    "sn.heatmap(confusion_metrics, annot=True, fmt= 'd')\n",
    "plt.xlabel(\"Predection\")\n",
    "plt.ylabel(\"Actual\")\n",
    "plt.show()\n"
   ]
  }
 ],
 "metadata": {
  "kernelspec": {
   "display_name": "Python 3 (ipykernel)",
   "language": "python",
   "name": "python3"
  },
  "language_info": {
   "codemirror_mode": {
    "name": "ipython",
    "version": 3
   },
   "file_extension": ".py",
   "mimetype": "text/x-python",
   "name": "python",
   "nbconvert_exporter": "python",
   "pygments_lexer": "ipython3",
   "version": "3.12.7"
  },
  "widgets": {
   "application/vnd.jupyter.widget-state+json": {
    "state": {},
    "version_major": 2,
    "version_minor": 0
   }
  }
 },
 "nbformat": 4,
 "nbformat_minor": 5
}
