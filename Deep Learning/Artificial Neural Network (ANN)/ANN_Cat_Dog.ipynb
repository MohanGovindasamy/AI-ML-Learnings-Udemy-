{
 "cells": [
  {
   "cell_type": "markdown",
   "id": "91159083-84ea-4ccd-84a8-a79770ef2f75",
   "metadata": {},
   "source": [
    "# KNN cats-and-dogs-image-classification\n",
    "\n",
    "##### https://www.kaggle.com/code/chanyikchun/comp4436-supervised-dl-yolov12cls"
   ]
  },
  {
   "cell_type": "markdown",
   "id": "bc25240a-c631-458b-8f07-b8fe39fdcc02",
   "metadata": {},
   "source": [
    "### Check tensorflow installed in your machine"
   ]
  },
  {
   "cell_type": "code",
   "execution_count": 1,
   "id": "cb02d888-9636-4287-901c-eef091556531",
   "metadata": {},
   "outputs": [],
   "source": [
    "# Before start doing tensorflow, need to install using following commands, if you installed already, then ignore\n",
    "# ! pip install tensorflow \n",
    "# Above line will install tensorflow into our directory"
   ]
  },
  {
   "cell_type": "markdown",
   "id": "af6d95d6-857e-4ae7-b09e-690065919993",
   "metadata": {},
   "source": [
    "## Import Required Libiraries"
   ]
  },
  {
   "cell_type": "code",
   "execution_count": 2,
   "id": "45541d72-3058-427b-a69b-ab2d8946d251",
   "metadata": {},
   "outputs": [],
   "source": [
    "# Import Tensorflow and Keras\n",
    "import tensorflow as tf\n",
    "from tensorflow import keras\n",
    "\n",
    "# Import numpy, pandas and matplotlib.pyplot\n",
    "import numpy as np\n",
    "import pandas as pd\n",
    "import matplotlib.pyplot as plt\n",
    "\n",
    "# importing os\n",
    "import os"
   ]
  },
  {
   "cell_type": "markdown",
   "id": "804f22ec-315d-4a86-9c5a-75e8d71fd83e",
   "metadata": {},
   "source": [
    "## Import dataset"
   ]
  },
  {
   "cell_type": "markdown",
   "id": "cc1292c2",
   "metadata": {},
   "source": [
    "### Define the paths to your training and testing folders"
   ]
  },
  {
   "cell_type": "code",
   "execution_count": null,
   "id": "2a7364c1-1331-4070-9dfc-01200c0a3f7e",
   "metadata": {},
   "outputs": [
    {
     "name": "stdout",
     "output_type": "stream",
     "text": [
      "test dir path :  ./Data/test\n",
      "train dir path :  ./Data/train\n",
      "cats train dir path :  ['cat_10.jpg', 'cat_100.jpg', 'cat_101.jpg', 'cat_102.jpg', 'cat_103.jpg', 'cat_104.jpg', 'cat_11.jpg', 'cat_111.jpg', 'cat_12.jpg', 'cat_120.jpg', 'cat_123.jpg', 'cat_129.jpg', 'cat_13.jpg', 'cat_132.jpg', 'cat_133.jpg', 'cat_134.jpg', 'cat_137.jpg', 'cat_138.jpg', 'cat_139.jpg', 'cat_14.jpg', 'cat_141.jpg', 'cat_146.jpg', 'cat_148.jpg', 'cat_149.jpg', 'cat_15.jpg', 'cat_151.jpg', 'cat_152.jpg', 'cat_153.jpg', 'cat_159.jpg', 'cat_16.jpg', 'cat_160.jpg', 'cat_161.jpg', 'cat_163.jpg', 'cat_164.jpg', 'cat_165.jpg', 'cat_168.jpg', 'cat_169.jpg', 'cat_170.jpg', 'cat_172.jpg', 'cat_177.jpg', 'cat_179.jpg', 'cat_180.jpg', 'cat_183.jpg', 'cat_184.jpg', 'cat_189.jpg', 'cat_191.jpg', 'cat_194.jpg', 'cat_195.jpg', 'cat_198.jpg', 'cat_2.jpg', 'cat_200.jpg', 'cat_201.jpg', 'cat_202.jpg', 'cat_207.jpg', 'cat_208.jpg', 'cat_209.jpg', 'cat_21.jpg', 'cat_211.jpg', 'cat_213.jpg', 'cat_214.jpg', 'cat_215.jpg', 'cat_217.jpg', 'cat_218.jpg', 'cat_219.jpg', 'cat_220.jpg', 'cat_221.jpg', 'cat_222.jpg', 'cat_224.jpg', 'cat_225.jpg', 'cat_227.jpg', 'cat_228.jpg', 'cat_229.jpg', 'cat_230.jpg', 'cat_232.jpg', 'cat_235.jpg', 'cat_238.jpg', 'cat_24.jpg', 'cat_240.jpg', 'cat_243.jpg', 'cat_246.jpg', 'cat_247.jpg', 'cat_248.jpg', 'cat_253.jpg', 'cat_257.jpg', 'cat_26.jpg', 'cat_260.jpg', 'cat_261.jpg', 'cat_263.jpg', 'cat_265.jpg', 'cat_269.jpg', 'cat_27.jpg', 'cat_270.jpg', 'cat_271.jpg', 'cat_273.jpg', 'cat_274.jpg', 'cat_275.jpg', 'cat_276.jpg', 'cat_280.jpg', 'cat_284.jpg', 'cat_285.jpg', 'cat_289.jpg', 'cat_292.jpg', 'cat_293.jpg', 'cat_297.jpg', 'cat_298.jpg', 'cat_3.jpg', 'cat_303.jpg', 'cat_304.jpg', 'cat_307.jpg', 'cat_310.jpg', 'cat_311.jpg', 'cat_316.jpg', 'cat_317.jpg', 'cat_318.jpg', 'cat_320.jpg', 'cat_321.jpg', 'cat_325.jpg', 'cat_327.jpg', 'cat_329.jpg', 'cat_33.jpg', 'cat_330.jpg', 'cat_331.jpg', 'cat_333.jpg', 'cat_336.jpg', 'cat_34.jpg', 'cat_343.jpg', 'cat_344.jpg', 'cat_345.jpg', 'cat_348.jpg', 'cat_35.jpg', 'cat_350.jpg', 'cat_351.jpg', 'cat_352.jpg', 'cat_359.jpg', 'cat_361.jpg', 'cat_362.jpg', 'cat_363.jpg', 'cat_367.jpg', 'cat_369.jpg', 'cat_37.jpg', 'cat_370.jpg', 'cat_372.jpg', 'cat_373.jpg', 'cat_376.jpg', 'cat_377.jpg', 'cat_38.jpg', 'cat_380.jpg', 'cat_381.jpg', 'cat_385.jpg', 'cat_386.jpg', 'cat_387.jpg', 'cat_388.jpg', 'cat_39.jpg', 'cat_391.jpg', 'cat_393.jpg', 'cat_396.jpg', 'cat_397.jpg', 'cat_399.jpg', 'cat_4.jpg', 'cat_400.jpg', 'cat_402.jpg', 'cat_403.jpg', 'cat_405.jpg', 'cat_407.jpg', 'cat_408.jpg', 'cat_413.jpg', 'cat_414.jpg', 'cat_416.jpg', 'cat_419.jpg', 'cat_42.jpg', 'cat_420.jpg', 'cat_423.jpg', 'cat_426.jpg', 'cat_427.jpg', 'cat_428.jpg', 'cat_429.jpg', 'cat_43.jpg', 'cat_434.jpg', 'cat_435.jpg', 'cat_438.jpg', 'cat_440.jpg', 'cat_443.jpg', 'cat_445.jpg', 'cat_450.jpg', 'cat_452.jpg', 'cat_453.jpg', 'cat_455.jpg', 'cat_456.jpg', 'cat_46.jpg', 'cat_461.jpg', 'cat_463.jpg', 'cat_465.jpg', 'cat_466.jpg', 'cat_467.jpg', 'cat_469.jpg', 'cat_474.jpg', 'cat_482.jpg', 'cat_483.jpg', 'cat_485.jpg', 'cat_487.jpg', 'cat_489.jpg', 'cat_49.jpg', 'cat_490.jpg', 'cat_492.jpg', 'cat_493.jpg', 'cat_494.jpg', 'cat_495.jpg', 'cat_497.jpg', 'cat_498.jpg', 'cat_499.jpg', 'cat_50.jpg', 'cat_500.jpg', 'cat_505.jpg', 'cat_506.jpg', 'cat_508.jpg', 'cat_510.jpg', 'cat_511.jpg', 'cat_518.jpg', 'cat_519.jpg', 'cat_52.jpg', 'cat_524.jpg', 'cat_526.jpg', 'cat_53.jpg', 'cat_531.jpg', 'cat_532.jpg', 'cat_533.jpg', 'cat_535.jpg', 'cat_536.jpg', 'cat_54.jpg', 'cat_540.jpg', 'cat_543.jpg', 'cat_544.jpg', 'cat_546.jpg', 'cat_547.jpg', 'cat_548.jpg', 'cat_549.jpg', 'cat_553.jpg', 'cat_556.jpg', 'cat_557.jpg', 'cat_558.jpg', 'cat_559.jpg', 'cat_560.jpg', 'cat_565.jpg', 'cat_567.jpg', 'cat_569.jpg', 'cat_570.jpg', 'cat_573.jpg', 'cat_577.jpg', 'cat_58.jpg', 'cat_580.jpg', 'cat_581.jpg', 'cat_589.jpg', 'cat_59.jpg', 'cat_590.jpg', 'cat_591.jpg', 'cat_592.jpg', 'cat_6.jpg', 'cat_601.jpg', 'cat_602.jpg', 'cat_604.jpg', 'cat_605.jpg', 'cat_61.jpg', 'cat_64.jpg', 'cat_66.jpg', 'cat_67.jpg', 'cat_69.jpg', 'cat_70.jpg', 'cat_74.jpg', 'cat_75.jpg', 'cat_77.jpg', 'cat_78.jpg', 'cat_80.jpg', 'cat_84.jpg', 'cat_87.jpg', 'cat_9.jpg', 'cat_93.jpg', 'cat_95.jpg', 'cat_97.jpg', 'cat_98.jpg']\n",
      "Number of Tainning Cat images :  279\n",
      "dogs train dir path :  ['dog_0.jpg', 'dog_10.jpg', 'dog_100.jpg', 'dog_102.jpg', 'dog_103.jpg', 'dog_106.jpg', 'dog_109.jpg', 'dog_11.jpg', 'dog_110.jpg', 'dog_113.jpg', 'dog_116.jpg', 'dog_120.jpg', 'dog_122.jpg', 'dog_125.jpg', 'dog_128.jpg', 'dog_129.jpg', 'dog_13.jpg', 'dog_133.jpg', 'dog_136.jpg', 'dog_138.jpg', 'dog_139.jpg', 'dog_140.jpg', 'dog_144.jpg', 'dog_145.jpg', 'dog_15.jpg', 'dog_151.jpg', 'dog_152.jpg', 'dog_154.jpg', 'dog_156.jpg', 'dog_162.jpg', 'dog_164.jpg', 'dog_165.jpg', 'dog_167.jpg', 'dog_171.jpg', 'dog_175.jpg', 'dog_178.jpg', 'dog_182.jpg', 'dog_186.jpg', 'dog_188.jpg', 'dog_192.jpg', 'dog_193.jpg', 'dog_195.jpg', 'dog_199.jpg', 'dog_200.jpg', 'dog_202.jpg', 'dog_203.jpg', 'dog_204.jpg', 'dog_205.jpg', 'dog_206.jpg', 'dog_207.jpg', 'dog_208.jpg', 'dog_209.jpg', 'dog_21.jpg', 'dog_212.jpg', 'dog_214.jpg', 'dog_216.jpg', 'dog_217.jpg', 'dog_218.jpg', 'dog_22.jpg', 'dog_220.jpg', 'dog_221.jpg', 'dog_224.jpg', 'dog_226.jpg', 'dog_23.jpg', 'dog_230.jpg', 'dog_231.jpg', 'dog_232.jpg', 'dog_234.jpg', 'dog_238.jpg', 'dog_239.jpg', 'dog_241.jpg', 'dog_243.jpg', 'dog_247.jpg', 'dog_249.jpg', 'dog_251.jpg', 'dog_253.jpg', 'dog_256.jpg', 'dog_259.jpg', 'dog_26.jpg', 'dog_260.jpg', 'dog_261.jpg', 'dog_262.jpg', 'dog_266.jpg', 'dog_267.jpg', 'dog_268.jpg', 'dog_269.jpg', 'dog_270.jpg', 'dog_272.jpg', 'dog_273.jpg', 'dog_277.jpg', 'dog_281.jpg', 'dog_286.jpg', 'dog_287.jpg', 'dog_29.jpg', 'dog_290.jpg', 'dog_291.jpg', 'dog_292.jpg', 'dog_293.jpg', 'dog_294.jpg', 'dog_295.jpg', 'dog_296.jpg', 'dog_298.jpg', 'dog_299.jpg', 'dog_3.jpg', 'dog_30.jpg', 'dog_301.jpg', 'dog_305.jpg', 'dog_306.jpg', 'dog_31.jpg', 'dog_315.jpg', 'dog_317.jpg', 'dog_318.jpg', 'dog_32.jpg', 'dog_320.jpg', 'dog_321.jpg', 'dog_322.jpg', 'dog_323.jpg', 'dog_324.jpg', 'dog_325.jpg', 'dog_33.jpg', 'dog_331.jpg', 'dog_332.jpg', 'dog_333.jpg', 'dog_334.jpg', 'dog_335.jpg', 'dog_337.jpg', 'dog_338.jpg', 'dog_341.jpg', 'dog_342.jpg', 'dog_343.jpg', 'dog_345.jpg', 'dog_347.jpg', 'dog_349.jpg', 'dog_35.jpg', 'dog_350.jpg', 'dog_351.jpg', 'dog_358.jpg', 'dog_359.jpg', 'dog_361.jpg', 'dog_363.jpg', 'dog_365.jpg', 'dog_367.jpg', 'dog_368.jpg', 'dog_37.jpg', 'dog_371.jpg', 'dog_375.jpg', 'dog_376.jpg', 'dog_378.jpg', 'dog_381.jpg', 'dog_389.jpg', 'dog_39.jpg', 'dog_391.jpg', 'dog_392.jpg', 'dog_393.jpg', 'dog_4.jpg', 'dog_401.jpg', 'dog_402.jpg', 'dog_403.jpg', 'dog_404.jpg', 'dog_405.jpg', 'dog_407.jpg', 'dog_408.jpg', 'dog_409.jpg', 'dog_412.jpg', 'dog_414.jpg', 'dog_417.jpg', 'dog_418.jpg', 'dog_419.jpg', 'dog_423.jpg', 'dog_427.jpg', 'dog_428.jpg', 'dog_429.jpg', 'dog_432.jpg', 'dog_433.jpg', 'dog_435.jpg', 'dog_436.jpg', 'dog_437.jpg', 'dog_438.jpg', 'dog_440.jpg', 'dog_441.jpg', 'dog_444.jpg', 'dog_445.jpg', 'dog_446.jpg', 'dog_447.jpg', 'dog_448.jpg', 'dog_45.jpg', 'dog_450.jpg', 'dog_451.jpg', 'dog_452.jpg', 'dog_458.jpg', 'dog_466.jpg', 'dog_468.jpg', 'dog_47.jpg', 'dog_471.jpg', 'dog_473.jpg', 'dog_474.jpg', 'dog_475.jpg', 'dog_478.jpg', 'dog_479.jpg', 'dog_480.jpg', 'dog_483.jpg', 'dog_484.jpg', 'dog_485.jpg', 'dog_487.jpg', 'dog_489.jpg', 'dog_490.jpg', 'dog_492.jpg', 'dog_494.jpg', 'dog_496.jpg', 'dog_50.jpg', 'dog_501.jpg', 'dog_502.jpg', 'dog_504.jpg', 'dog_505.jpg', 'dog_509.jpg', 'dog_51.jpg', 'dog_512.jpg', 'dog_513.jpg', 'dog_514.jpg', 'dog_523.jpg', 'dog_525.jpg', 'dog_529.jpg', 'dog_532.jpg', 'dog_533.jpg', 'dog_535.jpg', 'dog_54.jpg', 'dog_540.jpg', 'dog_541.jpg', 'dog_543.jpg', 'dog_545.jpg', 'dog_546.jpg', 'dog_549.jpg', 'dog_550.jpg', 'dog_552.jpg', 'dog_553.jpg', 'dog_554.jpg', 'dog_556.jpg', 'dog_558.jpg', 'dog_559.jpg', 'dog_56.jpg', 'dog_560.jpg', 'dog_564.jpg', 'dog_566.jpg', 'dog_57.jpg', 'dog_570.jpg', 'dog_571.jpg', 'dog_572.jpg', 'dog_576.jpg', 'dog_579.jpg', 'dog_580.jpg', 'dog_582.jpg', 'dog_583.jpg', 'dog_589.jpg', 'dog_591.jpg', 'dog_596.jpg', 'dog_62.jpg', 'dog_67.jpg', 'dog_69.jpg', 'dog_7.jpg', 'dog_70.jpg', 'dog_72.jpg', 'dog_74.jpg', 'dog_76.jpg', 'dog_77.jpg', 'dog_78.jpg', 'dog_8.jpg', 'dog_80.jpg', 'dog_82.jpg', 'dog_84.jpg', 'dog_85.jpg', 'dog_86.jpg', 'dog_9.jpg', 'dog_90.jpg', 'dog_92.jpg', 'dog_93.jpg', 'dog_97.jpg', 'dog_98.jpg', 'dog_99.jpg']\n",
      "Number of Tainning Dog images :  278\n"
     ]
    }
   ],
   "source": [
    "# assign root directory\n",
    "dir = './Data/'\n",
    "\n",
    "# add test directory with root\n",
    "test_data_dir = os.path.join(dir, 'test')\n",
    "print('test dir path : ', test_data_dir)\n",
    "\n",
    "# add train directory with root\n",
    "train_data_dir = os.path.join(dir,'train')\n",
    "print('train dir path : ' , train_data_dir)\n",
    "\n",
    "# add cats train path\n",
    "cats_train = os.listdir(os.path.join(train_data_dir, 'cats'))\n",
    "print('cats train dir path : ', cats_train)\n",
    "print('Number of Tainning Cat images : ', len(cats_train))\n",
    "\n",
    "# ass dogs train path\n",
    "dogs_train = os.listdir(os.path.join(train_data_dir, 'dogs'))\n",
    "print('dogs train dir path : ', dogs_train)\n",
    "print('Number of Tainning Dog images : ', len(dogs_train))"
   ]
  },
  {
   "cell_type": "markdown",
   "id": "ca4e9e50",
   "metadata": {},
   "source": [
    "#### Display of Inputs"
   ]
  },
  {
   "cell_type": "code",
   "execution_count": 7,
   "id": "7484abcf",
   "metadata": {},
   "outputs": [
    {
     "name": "stdout",
     "output_type": "stream",
     "text": [
      "cat_10.jpg\n",
      "Displaying x_train[0] in console\n"
     ]
    },
    {
     "ename": "ValueError",
     "evalue": "not enough values to unpack (expected 2, got 0)",
     "output_type": "error",
     "traceback": [
      "\u001b[1;31m---------------------------------------------------------------------------\u001b[0m",
      "\u001b[1;31mValueError\u001b[0m                                Traceback (most recent call last)",
      "Cell \u001b[1;32mIn[7], line 8\u001b[0m\n\u001b[0;32m      6\u001b[0m \u001b[38;5;66;03m#  display ith possition image\u001b[39;00m\n\u001b[0;32m      7\u001b[0m \u001b[38;5;28mprint\u001b[39m(\u001b[38;5;124mf\u001b[39m\u001b[38;5;124m\"\u001b[39m\u001b[38;5;124mDisplaying x_train[\u001b[39m\u001b[38;5;132;01m{\u001b[39;00mi\u001b[38;5;132;01m}\u001b[39;00m\u001b[38;5;124m] in console\u001b[39m\u001b[38;5;124m\"\u001b[39m)\n\u001b[1;32m----> 8\u001b[0m plt\u001b[38;5;241m.\u001b[39mmatshow(cats_train[i])\n\u001b[0;32m      9\u001b[0m plt\u001b[38;5;241m.\u001b[39mshow()\n\u001b[0;32m     11\u001b[0m \u001b[38;5;66;03m# display respective output in y train\u001b[39;00m\n",
      "File \u001b[1;32mc:\\Users\\Mohan Govindasamy\\anaconda3\\Lib\\site-packages\\matplotlib\\pyplot.py:2657\u001b[0m, in \u001b[0;36mmatshow\u001b[1;34m(A, fignum, **kwargs)\u001b[0m\n\u001b[0;32m   2653\u001b[0m     ax \u001b[38;5;241m=\u001b[39m gca()\n\u001b[0;32m   2654\u001b[0m \u001b[38;5;28;01melse\u001b[39;00m:\n\u001b[0;32m   2655\u001b[0m     \u001b[38;5;66;03m# Extract actual aspect ratio of array and make appropriately sized\u001b[39;00m\n\u001b[0;32m   2656\u001b[0m     \u001b[38;5;66;03m# figure.\u001b[39;00m\n\u001b[1;32m-> 2657\u001b[0m     fig \u001b[38;5;241m=\u001b[39m figure(fignum, figsize\u001b[38;5;241m=\u001b[39mfigaspect(A))\n\u001b[0;32m   2658\u001b[0m     ax \u001b[38;5;241m=\u001b[39m fig\u001b[38;5;241m.\u001b[39madd_axes((\u001b[38;5;241m0.15\u001b[39m, \u001b[38;5;241m0.09\u001b[39m, \u001b[38;5;241m0.775\u001b[39m, \u001b[38;5;241m0.775\u001b[39m))\n\u001b[0;32m   2659\u001b[0m im \u001b[38;5;241m=\u001b[39m ax\u001b[38;5;241m.\u001b[39mmatshow(A, \u001b[38;5;241m*\u001b[39m\u001b[38;5;241m*\u001b[39mkwargs)\n",
      "File \u001b[1;32mc:\\Users\\Mohan Govindasamy\\anaconda3\\Lib\\site-packages\\matplotlib\\figure.py:3611\u001b[0m, in \u001b[0;36mfigaspect\u001b[1;34m(arg)\u001b[0m\n\u001b[0;32m   3609\u001b[0m \u001b[38;5;66;03m# Extract the aspect ratio of the array\u001b[39;00m\n\u001b[0;32m   3610\u001b[0m \u001b[38;5;28;01mif\u001b[39;00m isarray:\n\u001b[1;32m-> 3611\u001b[0m     nr, nc \u001b[38;5;241m=\u001b[39m arg\u001b[38;5;241m.\u001b[39mshape[:\u001b[38;5;241m2\u001b[39m]\n\u001b[0;32m   3612\u001b[0m     arr_ratio \u001b[38;5;241m=\u001b[39m nr \u001b[38;5;241m/\u001b[39m nc\n\u001b[0;32m   3613\u001b[0m \u001b[38;5;28;01melse\u001b[39;00m:\n",
      "\u001b[1;31mValueError\u001b[0m: not enough values to unpack (expected 2, got 0)"
     ]
    }
   ],
   "source": [
    "i = 0\n",
    "\n",
    "# iprint first image\n",
    "print(cats_train[i])\n",
    "\n",
    "#  display ith possition image\n",
    "print(f\"Displaying x_train[{i}] in console\")\n",
    "plt.matshow(cats_train[i])\n",
    "plt.show()\n",
    "\n",
    "# display respective output in y train\n",
    "print(f\"Displaying y_train[{i}] in console\")\n",
    "print(cats_train[i])"
   ]
  }
 ],
 "metadata": {
  "kernelspec": {
   "display_name": "base",
   "language": "python",
   "name": "python3"
  },
  "language_info": {
   "codemirror_mode": {
    "name": "ipython",
    "version": 3
   },
   "file_extension": ".py",
   "mimetype": "text/x-python",
   "name": "python",
   "nbconvert_exporter": "python",
   "pygments_lexer": "ipython3",
   "version": "3.12.7"
  }
 },
 "nbformat": 4,
 "nbformat_minor": 5
}
