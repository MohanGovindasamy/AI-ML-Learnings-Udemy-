{
 "cells": [
  {
   "cell_type": "markdown",
   "metadata": {},
   "source": [
    "# ANN with tensorflow to predict housing prices\n",
    "\n",
    "##### https://www.kaggle.com/code/saurav9786/ann-with-tensorflow-2-0-to-predict-housing-prices/notebook"
   ]
  },
  {
   "cell_type": "markdown",
   "metadata": {},
   "source": [
    "### Check Tensorflow installed on this machine"
   ]
  },
  {
   "cell_type": "code",
   "execution_count": 1,
   "metadata": {},
   "outputs": [],
   "source": [
    "# Before start doing tensorflow, need to install using following commands, if you installed already, then ignore\n",
    "# ! pip install tensorflow\n",
    "# Above line will install tensorflow into our directory"
   ]
  },
  {
   "cell_type": "markdown",
   "metadata": {},
   "source": [
    "## Import Required Libiraries"
   ]
  },
  {
   "cell_type": "code",
   "execution_count": 2,
   "metadata": {},
   "outputs": [],
   "source": [
    "# Importing tensorflow and keras\n",
    "import tensorflow as tf\n",
    "from tensorflow import keras\n",
    "\n",
    "# impoer numpy, pands and matplotlib.pyplot\n",
    "import numpy as np\n",
    "import pandas as pd\n",
    "import matplotlib.pyplot as plt"
   ]
  },
  {
   "cell_type": "code",
   "execution_count": 3,
   "metadata": {},
   "outputs": [
    {
     "name": "stdout",
     "output_type": "stream",
     "text": [
      "2.18.0\n"
     ]
    }
   ],
   "source": [
    "# Checking the tensorflow libraries\n",
    "print(tf.__version__)"
   ]
  },
  {
   "cell_type": "markdown",
   "metadata": {},
   "source": [
    "## Load Dataset"
   ]
  },
  {
   "cell_type": "code",
   "execution_count": 4,
   "metadata": {},
   "outputs": [
    {
     "name": "stdout",
     "output_type": "stream",
     "text": [
      "Shape of the Data\n",
      " (20640, 10)\n",
      "\n",
      "Top 3 rows values\n",
      "    longitude  latitude  housing_median_age  total_rooms  total_bedrooms  \\\n",
      "0    -122.23     37.88                  41          880           129.0   \n",
      "1    -122.22     37.86                  21         7099          1106.0   \n",
      "2    -122.24     37.85                  52         1467           190.0   \n",
      "\n",
      "   population  households  median_income  median_house_value ocean_proximity  \n",
      "0         322         126         8.3252              452600        NEAR BAY  \n",
      "1        2401        1138         8.3014              358500        NEAR BAY  \n",
      "2         496         177         7.2574              352100        NEAR BAY  \n",
      "\n",
      "is there any columns have null values\n",
      " longitude             False\n",
      "latitude              False\n",
      "housing_median_age    False\n",
      "total_rooms           False\n",
      "total_bedrooms         True\n",
      "population            False\n",
      "households            False\n",
      "median_income         False\n",
      "median_house_value    False\n",
      "ocean_proximity       False\n",
      "dtype: bool\n",
      "\n",
      "Count the number of columns having null values\n",
      " longitude               0\n",
      "latitude                0\n",
      "housing_median_age      0\n",
      "total_rooms             0\n",
      "total_bedrooms        207\n",
      "population              0\n",
      "households              0\n",
      "median_income           0\n",
      "median_house_value      0\n",
      "ocean_proximity         0\n",
      "dtype: int64\n",
      "\n",
      "Drop Null Values Row and update same\n",
      "\n",
      "\n",
      "After drop null values row, is there any columns have null values\n",
      " longitude             0\n",
      "latitude              0\n",
      "housing_median_age    0\n",
      "total_rooms           0\n",
      "total_bedrooms        0\n",
      "population            0\n",
      "households            0\n",
      "median_income         0\n",
      "median_house_value    0\n",
      "ocean_proximity       0\n",
      "dtype: int64\n",
      "\n",
      "Shape of the Data\n",
      " (20433, 10)\n"
     ]
    }
   ],
   "source": [
    "# load dataset by using pands\n",
    "data = pd.read_csv(\"./housing.csv\")\n",
    "\n",
    "# check no.of rows and column\n",
    "print(\"Shape of the Data\\n\", data.shape)\n",
    "\n",
    "# display head values\n",
    "print(\"\\nTop 3 rows values\\n\", data.head(3))\n",
    "\n",
    "# Checking for the null values\n",
    "print(\"\\nis there any columns have null values\\n\", data.isna().any())\n",
    "\n",
    "# Count of null values in each column\n",
    "print(\"\\nCount the number of columns having null values\\n\", data.isnull().sum())\n",
    "\n",
    "# total_bedrooms  column have some of null values in row, removing that row\n",
    "print(\"\\nDrop Null Values Row and update same\\n\")\n",
    "data.dropna(inplace=True)  # this will drop null values rows and update same\n",
    "\n",
    "# check again is there any rows having null values\n",
    "print(\n",
    "    \"\\nAfter drop null values row, is there any columns have null values\\n\",\n",
    "    data.isnull().sum(),\n",
    ")\n",
    "\n",
    "# check no.of rows and column\n",
    "print(\"\\nShape of the Data\\n\", data.shape)"
   ]
  },
  {
   "cell_type": "markdown",
   "metadata": {},
   "source": [
    "#### Encodeing String column into numeric values to imporve accuracy"
   ]
  },
  {
   "cell_type": "code",
   "execution_count": 5,
   "metadata": {},
   "outputs": [
    {
     "name": "stdout",
     "output_type": "stream",
     "text": [
      "Columns with string values: Index(['ocean_proximity'], dtype='object')\n",
      "Index(['ocean_proximity'], dtype='object')\n",
      "\n",
      "ocean_proximity : Counts : \n",
      " ocean_proximity\n",
      "<1H OCEAN          9034\n",
      "INLAND             6496\n",
      "NEAR OCEAN         2628\n",
      "NEAR BAY           2270\n",
      "ISLAND                5\n",
      "Name: count, dtype: int64\n",
      "   longitude  latitude  housing_median_age  total_rooms  total_bedrooms  \\\n",
      "0    -122.23     37.88                  41          880           129.0   \n",
      "1    -122.22     37.86                  21         7099          1106.0   \n",
      "2    -122.24     37.85                  52         1467           190.0   \n",
      "3    -122.25     37.85                  52         1274           235.0   \n",
      "4    -122.25     37.85                  52         1627           280.0   \n",
      "\n",
      "   population  households  median_income  median_house_value  ocean_proximity  \n",
      "0         322         126         8.3252              452600                3  \n",
      "1        2401        1138         8.3014              358500                3  \n",
      "2         496         177         7.2574              352100                3  \n",
      "3         558         219         5.6431              341300                3  \n",
      "4         565         259         3.8462              342200                3  \n",
      "\n",
      "ocean_proximity : Counts : \n",
      " ocean_proximity\n",
      "0                  9034\n",
      "1                  6496\n",
      "4                  2628\n",
      "3                  2270\n",
      "2                     5\n",
      "Name: count, dtype: int64\n"
     ]
    }
   ],
   "source": [
    "# in data column which having string have values\n",
    "# Select columns with string values\n",
    "string_columns = data.select_dtypes(include=[\"object\"]).columns\n",
    "\n",
    "# Print the column names with string values\n",
    "print(\"Columns with string values:\", string_columns)\n",
    "\n",
    "print(string_columns)\n",
    "\n",
    "# Get the counts of unique values in the 'target' column\n",
    "value_counts = data[string_columns].value_counts()\n",
    "\n",
    "# Print the value counts\n",
    "print(\"\\nocean_proximity : Counts : \\n\", value_counts)\n",
    "\n",
    "# using label encoder to encode values 0-4, since only 5 repeted values are theres\n",
    "# import labelEncoder from sklearn > preprocessing\n",
    "from sklearn.preprocessing import LabelEncoder\n",
    "\n",
    "# initialize label encode\n",
    "label_encoder = LabelEncoder()\n",
    "\n",
    "# convert targeted column\n",
    "# Apply Label Encoding to each string column\n",
    "for col in string_columns:\n",
    "    data[col] = label_encoder.fit_transform(data[col])\n",
    "\n",
    "\n",
    "# after encoding ,display values\n",
    "print(data.head())\n",
    "\n",
    "\n",
    "#  now once again check\n",
    "# Get the counts of unique values in the 'target' column\n",
    "value_counts = data[string_columns].value_counts()\n",
    "\n",
    "# Print the value counts\n",
    "print(\"\\nocean_proximity : Counts : \\n\", value_counts)"
   ]
  },
  {
   "cell_type": "markdown",
   "metadata": {},
   "source": [
    "#### Reorder the the data set colomns"
   ]
  },
  {
   "cell_type": "code",
   "execution_count": 6,
   "metadata": {},
   "outputs": [
    {
     "name": "stdout",
     "output_type": "stream",
     "text": [
      "\n",
      "Columns Names are: \n",
      " ['longitude', 'latitude', 'housing_median_age', 'total_rooms', 'total_bedrooms', 'population', 'households', 'median_income', 'median_house_value', 'ocean_proximity']\n",
      "       longitude  latitude  housing_median_age  total_rooms  total_bedrooms  \\\n",
      "0        -122.23     37.88                  41          880           129.0   \n",
      "1        -122.22     37.86                  21         7099          1106.0   \n",
      "2        -122.24     37.85                  52         1467           190.0   \n",
      "3        -122.25     37.85                  52         1274           235.0   \n",
      "4        -122.25     37.85                  52         1627           280.0   \n",
      "...          ...       ...                 ...          ...             ...   \n",
      "20635    -121.09     39.48                  25         1665           374.0   \n",
      "20636    -121.21     39.49                  18          697           150.0   \n",
      "20637    -121.22     39.43                  17         2254           485.0   \n",
      "20638    -121.32     39.43                  18         1860           409.0   \n",
      "20639    -121.24     39.37                  16         2785           616.0   \n",
      "\n",
      "       population  households  median_income  ocean_proximity  \\\n",
      "0             322         126         8.3252                3   \n",
      "1            2401        1138         8.3014                3   \n",
      "2             496         177         7.2574                3   \n",
      "3             558         219         5.6431                3   \n",
      "4             565         259         3.8462                3   \n",
      "...           ...         ...            ...              ...   \n",
      "20635         845         330         1.5603                1   \n",
      "20636         356         114         2.5568                1   \n",
      "20637        1007         433         1.7000                1   \n",
      "20638         741         349         1.8672                1   \n",
      "20639        1387         530         2.3886                1   \n",
      "\n",
      "       median_house_value  \n",
      "0                  452600  \n",
      "1                  358500  \n",
      "2                  352100  \n",
      "3                  341300  \n",
      "4                  342200  \n",
      "...                   ...  \n",
      "20635               78100  \n",
      "20636               77100  \n",
      "20637               92300  \n",
      "20638               84700  \n",
      "20639               89400  \n",
      "\n",
      "[20433 rows x 10 columns]\n"
     ]
    }
   ],
   "source": [
    "# check columns name\n",
    "cols = data.columns.tolist()\n",
    "print(\"\\nColumns Names are: \\n\", cols)\n",
    "\n",
    "# Move 'target' column to the last position\n",
    "# our Target column is \"median_house_value\"\n",
    "cols.append(\n",
    "    cols.pop(cols.index(\"median_house_value\"))\n",
    ")  # Move 'target' to the last position\n",
    "data = data[cols]  # Reorder DataFrame\n",
    "\n",
    "# Print the modified DataFrame\n",
    "print(data)"
   ]
  },
  {
   "cell_type": "markdown",
   "metadata": {},
   "source": [
    "#### Seperate x and y data for feature scaling"
   ]
  },
  {
   "cell_type": "code",
   "execution_count": 7,
   "metadata": {},
   "outputs": [
    {
     "name": "stdout",
     "output_type": "stream",
     "text": [
      "\n",
      "x valus\n",
      " [[-1.2223e+02  3.7880e+01  4.1000e+01 ...  1.2600e+02  8.3252e+00\n",
      "   3.0000e+00]\n",
      " [-1.2222e+02  3.7860e+01  2.1000e+01 ...  1.1380e+03  8.3014e+00\n",
      "   3.0000e+00]\n",
      " [-1.2224e+02  3.7850e+01  5.2000e+01 ...  1.7700e+02  7.2574e+00\n",
      "   3.0000e+00]\n",
      " ...\n",
      " [-1.2122e+02  3.9430e+01  1.7000e+01 ...  4.3300e+02  1.7000e+00\n",
      "   1.0000e+00]\n",
      " [-1.2132e+02  3.9430e+01  1.8000e+01 ...  3.4900e+02  1.8672e+00\n",
      "   1.0000e+00]\n",
      " [-1.2124e+02  3.9370e+01  1.6000e+01 ...  5.3000e+02  2.3886e+00\n",
      "   1.0000e+00]]\n",
      "\n",
      "y valus\n",
      " [452600 358500 352100 ...  92300  84700  89400]\n"
     ]
    }
   ],
   "source": [
    "# for x , all rows and all coulums expect last columns\n",
    "x = data.iloc[:, :-1].values\n",
    "# for x , all rows and last columns only\n",
    "y = data.iloc[:, -1].values\n",
    "\n",
    "#  dispaly values\n",
    "print(\"\\nx valus\\n\", x)\n",
    "print(\"\\ny valus\\n\", y)"
   ]
  },
  {
   "cell_type": "markdown",
   "metadata": {},
   "source": [
    "## Spliting into Training and Test Data set\n"
   ]
  },
  {
   "cell_type": "code",
   "execution_count": 8,
   "metadata": {},
   "outputs": [
    {
     "name": "stdout",
     "output_type": "stream",
     "text": [
      "size of X training models :  16346\n",
      "size of X test models :  4087\n",
      "size of Y training models :  16346\n",
      "size of Y test models :  4087\n",
      "Number of dimensions for x_train: 2\n",
      "Number of dimensions for x_test: 2\n"
     ]
    }
   ],
   "source": [
    "# import train_test_split model selection from sklearn\n",
    "from sklearn.model_selection import train_test_split\n",
    "\n",
    "# Spliting into models as 80% of Training and 20% of Test\n",
    "x_train, x_test, y_train, y_test = train_test_split(x, y, test_size=0.2, random_state=0)\n",
    "\n",
    "# display length of values\n",
    "print(\"size of X training models : \", len(x_train))\n",
    "print(\"size of X test models : \", len(x_test))\n",
    "print(\"size of Y training models : \", len(y_train))\n",
    "print(\"size of Y test models : \", len(y_test))\n",
    "\n",
    "# Check the number of dimensions\n",
    "x_train_dim = x_train.ndim\n",
    "print(\"Number of dimensions for x_train:\", x_train_dim)\n",
    "\n",
    "x_test_dim = x_train.ndim\n",
    "print(\"Number of dimensions for x_test:\", x_test_dim)"
   ]
  },
  {
   "cell_type": "markdown",
   "metadata": {},
   "source": [
    "## Feature Scaling"
   ]
  },
  {
   "cell_type": "code",
   "execution_count": 9,
   "metadata": {},
   "outputs": [
    {
     "name": "stdout",
     "output_type": "stream",
     "text": [
      "After Scaling x_train :  [ 1.34433224 -1.36066295 -1.24306229  0.289854   -0.11174572  0.00483636\n",
      "  0.00862081  0.99880176 -0.82243534]\n",
      "After Scaling x_test :  [ 1.23949381 -1.37002754  0.66140662 -0.2109422  -0.28532789 -0.10925688\n",
      " -0.32616418 -0.52142955  1.99134271]\n"
     ]
    }
   ],
   "source": [
    "# imprt standard scaller from sklearn preprocessing\n",
    "from sklearn.preprocessing import StandardScaler\n",
    "\n",
    "sc = StandardScaler()\n",
    "\n",
    "x_train = sc.fit_transform(x_train)\n",
    "x_test = sc.transform(x_test)\n",
    "\n",
    "# didplay values\n",
    "print(\"After Scaling x_train : \", x_train[0])\n",
    "print(\"After Scaling x_test : \", x_test[0])"
   ]
  },
  {
   "cell_type": "code",
   "execution_count": 10,
   "metadata": {},
   "outputs": [],
   "source": [
    "# i = 1\n",
    "# #  Print dimention of X_train in console\n",
    "# print(\"before flatened x_train shape (2D)\", x_train.shape) # (16346, 9)\n",
    "# print(\"before flatened x_train shape (2D)\", x_test.shape) # (16346, 9)\n",
    "\n",
    "# # by reshaping  x_train as 2D to 1D array\n",
    "# x_train_flatened = x_train.reshape(len(x_train), x.shape[1] )\n",
    "# x_test_flatened = x_test.reshape(len(x_test), x.shape[1] )\n",
    "\n",
    "# # Display value in console\n",
    "# print()\n",
    "# print(\"x_train_flatened shape (1D) : \", x_train_flatened.shape)\n",
    "# print(\"x_test_flatened shape (1D) : \",x_test_flatened.shape)\n",
    "\n",
    "# # Display 1st values\n",
    "# print(f\"\\nx_train_flatened[{i}] as (1D) : \\n\", x_train_flatened[i])\n",
    "# print(f\"\\nx_test_flatened[{i}] as (1D) : \\n\", x_test_flatened[i])"
   ]
  },
  {
   "cell_type": "code",
   "execution_count": 11,
   "metadata": {},
   "outputs": [
    {
     "name": "stdout",
     "output_type": "stream",
     "text": [
      "x_train Dimentions 2\n",
      "x_test Dimentions 2\n",
      "y_train 1\n",
      "y_train <class 'numpy.ndarray'>\n",
      "y_test 1\n",
      "y_test <class 'numpy.ndarray'>\n"
     ]
    }
   ],
   "source": [
    "print(\"x_train Dimentions\", x_train.ndim)\n",
    "print(\"x_test Dimentions\", x_test.ndim)\n",
    "\n",
    "# print(\"x_train_flatened\", x_train_flatened.ndim)\n",
    "# print(\"x_test_flatened\", x_test_flatened.ndim)\n",
    "\n",
    "print(\"y_train\", y_train.ndim)\n",
    "print(\"y_train\", type(y_train))\n",
    "\n",
    "\n",
    "print(\"y_test\", y_test.ndim)\n",
    "print(\"y_test\", type(y_test))"
   ]
  },
  {
   "cell_type": "code",
   "execution_count": 12,
   "metadata": {},
   "outputs": [
    {
     "data": {
      "text/plain": [
       "(20433, 9)"
      ]
     },
     "execution_count": 12,
     "metadata": {},
     "output_type": "execute_result"
    }
   ],
   "source": [
    "x.shape"
   ]
  },
  {
   "cell_type": "markdown",
   "metadata": {},
   "source": [
    "## Build Model - ANN"
   ]
  },
  {
   "cell_type": "markdown",
   "metadata": {},
   "source": [
    "#### Build Neural Network model using tensorflow keras"
   ]
  },
  {
   "cell_type": "code",
   "execution_count": 13,
   "metadata": {},
   "outputs": [
    {
     "name": "stderr",
     "output_type": "stream",
     "text": [
      "C:\\Users\\Mohan Govindasamy\\AppData\\Roaming\\Python\\Python312\\site-packages\\keras\\src\\layers\\core\\dense.py:87: UserWarning: Do not pass an `input_shape`/`input_dim` argument to a layer. When using Sequential models, prefer using an `Input(shape)` object as the first layer in the model instead.\n",
      "  super().__init__(activity_regularizer=activity_regularizer, **kwargs)\n"
     ]
    }
   ],
   "source": [
    "# Step 1: Create a Sequential model, (Stack of layer in neural n/w - since it's stach, every layer is 1 element )\n",
    "model = keras.Sequential([\n",
    "    # Step 2: Add hidden Layer 1 with the output layer a n neurons, input shape is 784 (28*28) and activation function\n",
    "    keras.layers.Dense(\n",
    "        x.shape[1],\n",
    "        input_dim = x.shape[1], # Input layers x.shape[1]\n",
    "        activation = 'relu' # activation type\n",
    "    ), \n",
    "\n",
    "    #  add hidden layer\n",
    "    keras.layers.Dense(512, activation= 'relu'),\n",
    "    keras.layers.Dense(512, activation= 'relu'),\n",
    "    keras.layers.Dense(256, activation= 'relu'),\n",
    "    keras.layers.Dense(128, activation= 'relu'),\n",
    "    keras.layers.Dense(64, activation= 'relu'),\n",
    "\n",
    "\n",
    "\n",
    "    # Step 3: Add the output layer with 10 neurons (one for each digit), and activation function\n",
    "    keras.layers.Dense(\n",
    "        1, # Output layers for last hidden layer o/p (Note: for last layer no need for input layer size)\n",
    "        activation = 'relu' # activation type\n",
    "    )\n",
    "    \n",
    "    \n",
    "\n",
    "])\n"
   ]
  },
  {
   "cell_type": "markdown",
   "metadata": {},
   "source": [
    "#### Complile that neural n/w"
   ]
  },
  {
   "cell_type": "code",
   "execution_count": 14,
   "metadata": {},
   "outputs": [
    {
     "data": {
      "text/html": [
       "<pre style=\"white-space:pre;overflow-x:auto;line-height:normal;font-family:Menlo,'DejaVu Sans Mono',consolas,'Courier New',monospace\"><span style=\"font-weight: bold\">Model: \"sequential\"</span>\n",
       "</pre>\n"
      ],
      "text/plain": [
       "\u001b[1mModel: \"sequential\"\u001b[0m\n"
      ]
     },
     "metadata": {},
     "output_type": "display_data"
    },
    {
     "data": {
      "text/html": [
       "<pre style=\"white-space:pre;overflow-x:auto;line-height:normal;font-family:Menlo,'DejaVu Sans Mono',consolas,'Courier New',monospace\">┏━━━━━━━━━━━━━━━━━━━━━━━━━━━━━━━━━┳━━━━━━━━━━━━━━━━━━━━━━━━┳━━━━━━━━━━━━━━━┓\n",
       "┃<span style=\"font-weight: bold\"> Layer (type)                    </span>┃<span style=\"font-weight: bold\"> Output Shape           </span>┃<span style=\"font-weight: bold\">       Param # </span>┃\n",
       "┡━━━━━━━━━━━━━━━━━━━━━━━━━━━━━━━━━╇━━━━━━━━━━━━━━━━━━━━━━━━╇━━━━━━━━━━━━━━━┩\n",
       "│ dense (<span style=\"color: #0087ff; text-decoration-color: #0087ff\">Dense</span>)                   │ (<span style=\"color: #00d7ff; text-decoration-color: #00d7ff\">None</span>, <span style=\"color: #00af00; text-decoration-color: #00af00\">9</span>)              │            <span style=\"color: #00af00; text-decoration-color: #00af00\">90</span> │\n",
       "├─────────────────────────────────┼────────────────────────┼───────────────┤\n",
       "│ dense_1 (<span style=\"color: #0087ff; text-decoration-color: #0087ff\">Dense</span>)                 │ (<span style=\"color: #00d7ff; text-decoration-color: #00d7ff\">None</span>, <span style=\"color: #00af00; text-decoration-color: #00af00\">512</span>)            │         <span style=\"color: #00af00; text-decoration-color: #00af00\">5,120</span> │\n",
       "├─────────────────────────────────┼────────────────────────┼───────────────┤\n",
       "│ dense_2 (<span style=\"color: #0087ff; text-decoration-color: #0087ff\">Dense</span>)                 │ (<span style=\"color: #00d7ff; text-decoration-color: #00d7ff\">None</span>, <span style=\"color: #00af00; text-decoration-color: #00af00\">512</span>)            │       <span style=\"color: #00af00; text-decoration-color: #00af00\">262,656</span> │\n",
       "├─────────────────────────────────┼────────────────────────┼───────────────┤\n",
       "│ dense_3 (<span style=\"color: #0087ff; text-decoration-color: #0087ff\">Dense</span>)                 │ (<span style=\"color: #00d7ff; text-decoration-color: #00d7ff\">None</span>, <span style=\"color: #00af00; text-decoration-color: #00af00\">256</span>)            │       <span style=\"color: #00af00; text-decoration-color: #00af00\">131,328</span> │\n",
       "├─────────────────────────────────┼────────────────────────┼───────────────┤\n",
       "│ dense_4 (<span style=\"color: #0087ff; text-decoration-color: #0087ff\">Dense</span>)                 │ (<span style=\"color: #00d7ff; text-decoration-color: #00d7ff\">None</span>, <span style=\"color: #00af00; text-decoration-color: #00af00\">128</span>)            │        <span style=\"color: #00af00; text-decoration-color: #00af00\">32,896</span> │\n",
       "├─────────────────────────────────┼────────────────────────┼───────────────┤\n",
       "│ dense_5 (<span style=\"color: #0087ff; text-decoration-color: #0087ff\">Dense</span>)                 │ (<span style=\"color: #00d7ff; text-decoration-color: #00d7ff\">None</span>, <span style=\"color: #00af00; text-decoration-color: #00af00\">64</span>)             │         <span style=\"color: #00af00; text-decoration-color: #00af00\">8,256</span> │\n",
       "├─────────────────────────────────┼────────────────────────┼───────────────┤\n",
       "│ dense_6 (<span style=\"color: #0087ff; text-decoration-color: #0087ff\">Dense</span>)                 │ (<span style=\"color: #00d7ff; text-decoration-color: #00d7ff\">None</span>, <span style=\"color: #00af00; text-decoration-color: #00af00\">1</span>)              │            <span style=\"color: #00af00; text-decoration-color: #00af00\">65</span> │\n",
       "└─────────────────────────────────┴────────────────────────┴───────────────┘\n",
       "</pre>\n"
      ],
      "text/plain": [
       "┏━━━━━━━━━━━━━━━━━━━━━━━━━━━━━━━━━┳━━━━━━━━━━━━━━━━━━━━━━━━┳━━━━━━━━━━━━━━━┓\n",
       "┃\u001b[1m \u001b[0m\u001b[1mLayer (type)                   \u001b[0m\u001b[1m \u001b[0m┃\u001b[1m \u001b[0m\u001b[1mOutput Shape          \u001b[0m\u001b[1m \u001b[0m┃\u001b[1m \u001b[0m\u001b[1m      Param #\u001b[0m\u001b[1m \u001b[0m┃\n",
       "┡━━━━━━━━━━━━━━━━━━━━━━━━━━━━━━━━━╇━━━━━━━━━━━━━━━━━━━━━━━━╇━━━━━━━━━━━━━━━┩\n",
       "│ dense (\u001b[38;5;33mDense\u001b[0m)                   │ (\u001b[38;5;45mNone\u001b[0m, \u001b[38;5;34m9\u001b[0m)              │            \u001b[38;5;34m90\u001b[0m │\n",
       "├─────────────────────────────────┼────────────────────────┼───────────────┤\n",
       "│ dense_1 (\u001b[38;5;33mDense\u001b[0m)                 │ (\u001b[38;5;45mNone\u001b[0m, \u001b[38;5;34m512\u001b[0m)            │         \u001b[38;5;34m5,120\u001b[0m │\n",
       "├─────────────────────────────────┼────────────────────────┼───────────────┤\n",
       "│ dense_2 (\u001b[38;5;33mDense\u001b[0m)                 │ (\u001b[38;5;45mNone\u001b[0m, \u001b[38;5;34m512\u001b[0m)            │       \u001b[38;5;34m262,656\u001b[0m │\n",
       "├─────────────────────────────────┼────────────────────────┼───────────────┤\n",
       "│ dense_3 (\u001b[38;5;33mDense\u001b[0m)                 │ (\u001b[38;5;45mNone\u001b[0m, \u001b[38;5;34m256\u001b[0m)            │       \u001b[38;5;34m131,328\u001b[0m │\n",
       "├─────────────────────────────────┼────────────────────────┼───────────────┤\n",
       "│ dense_4 (\u001b[38;5;33mDense\u001b[0m)                 │ (\u001b[38;5;45mNone\u001b[0m, \u001b[38;5;34m128\u001b[0m)            │        \u001b[38;5;34m32,896\u001b[0m │\n",
       "├─────────────────────────────────┼────────────────────────┼───────────────┤\n",
       "│ dense_5 (\u001b[38;5;33mDense\u001b[0m)                 │ (\u001b[38;5;45mNone\u001b[0m, \u001b[38;5;34m64\u001b[0m)             │         \u001b[38;5;34m8,256\u001b[0m │\n",
       "├─────────────────────────────────┼────────────────────────┼───────────────┤\n",
       "│ dense_6 (\u001b[38;5;33mDense\u001b[0m)                 │ (\u001b[38;5;45mNone\u001b[0m, \u001b[38;5;34m1\u001b[0m)              │            \u001b[38;5;34m65\u001b[0m │\n",
       "└─────────────────────────────────┴────────────────────────┴───────────────┘\n"
      ]
     },
     "metadata": {},
     "output_type": "display_data"
    },
    {
     "data": {
      "text/html": [
       "<pre style=\"white-space:pre;overflow-x:auto;line-height:normal;font-family:Menlo,'DejaVu Sans Mono',consolas,'Courier New',monospace\"><span style=\"font-weight: bold\"> Total params: </span><span style=\"color: #00af00; text-decoration-color: #00af00\">440,411</span> (1.68 MB)\n",
       "</pre>\n"
      ],
      "text/plain": [
       "\u001b[1m Total params: \u001b[0m\u001b[38;5;34m440,411\u001b[0m (1.68 MB)\n"
      ]
     },
     "metadata": {},
     "output_type": "display_data"
    },
    {
     "data": {
      "text/html": [
       "<pre style=\"white-space:pre;overflow-x:auto;line-height:normal;font-family:Menlo,'DejaVu Sans Mono',consolas,'Courier New',monospace\"><span style=\"font-weight: bold\"> Trainable params: </span><span style=\"color: #00af00; text-decoration-color: #00af00\">440,411</span> (1.68 MB)\n",
       "</pre>\n"
      ],
      "text/plain": [
       "\u001b[1m Trainable params: \u001b[0m\u001b[38;5;34m440,411\u001b[0m (1.68 MB)\n"
      ]
     },
     "metadata": {},
     "output_type": "display_data"
    },
    {
     "data": {
      "text/html": [
       "<pre style=\"white-space:pre;overflow-x:auto;line-height:normal;font-family:Menlo,'DejaVu Sans Mono',consolas,'Courier New',monospace\"><span style=\"font-weight: bold\"> Non-trainable params: </span><span style=\"color: #00af00; text-decoration-color: #00af00\">0</span> (0.00 B)\n",
       "</pre>\n"
      ],
      "text/plain": [
       "\u001b[1m Non-trainable params: \u001b[0m\u001b[38;5;34m0\u001b[0m (0.00 B)\n"
      ]
     },
     "metadata": {},
     "output_type": "display_data"
    }
   ],
   "source": [
    "# Complile that neural n/w\n",
    "model.compile(optimizer=\"adam\", loss=\"mse\", metrics=[\"mse\", \"mae\"])\n",
    "# model.compile(loss=\"mse\", optimizer=\"adam\", metrics=[\"mse\", \"mae\", \"accuracy\"])\n",
    "\n",
    "model.summary()"
   ]
  },
  {
   "cell_type": "markdown",
   "metadata": {},
   "source": [
    "#### Fit into the model using Train Data Set"
   ]
  },
  {
   "cell_type": "code",
   "execution_count": 15,
   "metadata": {},
   "outputs": [
    {
     "name": "stdout",
     "output_type": "stream",
     "text": [
      "Epoch 1/5\n",
      "\u001b[1m1022/1022\u001b[0m \u001b[32m━━━━━━━━━━━━━━━━━━━━\u001b[0m\u001b[37m\u001b[0m \u001b[1m9s\u001b[0m 7ms/step - loss: 19496769536.0000 - mae: 99533.6719 - mse: 19496769536.0000\n",
      "Epoch 2/5\n",
      "\u001b[1m1022/1022\u001b[0m \u001b[32m━━━━━━━━━━━━━━━━━━━━\u001b[0m\u001b[37m\u001b[0m \u001b[1m8s\u001b[0m 8ms/step - loss: 4472931328.0000 - mae: 47533.6367 - mse: 4472931328.0000\n",
      "Epoch 3/5\n",
      "\u001b[1m1022/1022\u001b[0m \u001b[32m━━━━━━━━━━━━━━━━━━━━\u001b[0m\u001b[37m\u001b[0m \u001b[1m16s\u001b[0m 15ms/step - loss: 4315484672.0000 - mae: 46120.7422 - mse: 4315484672.0000\n",
      "Epoch 4/5\n",
      "\u001b[1m1022/1022\u001b[0m \u001b[32m━━━━━━━━━━━━━━━━━━━━\u001b[0m\u001b[37m\u001b[0m \u001b[1m8s\u001b[0m 7ms/step - loss: 4243030784.0000 - mae: 45947.7812 - mse: 4243030784.0000\n",
      "Epoch 5/5\n",
      "\u001b[1m1022/1022\u001b[0m \u001b[32m━━━━━━━━━━━━━━━━━━━━\u001b[0m\u001b[37m\u001b[0m \u001b[1m7s\u001b[0m 7ms/step - loss: 4033295360.0000 - mae: 44615.0859 - mse: 4033295360.0000\n"
     ]
    },
    {
     "data": {
      "text/plain": [
       "<keras.src.callbacks.history.History at 0x24edf55a8a0>"
      ]
     },
     "execution_count": 15,
     "metadata": {},
     "output_type": "execute_result"
    }
   ],
   "source": [
    "# fit into model (epochs=5 means  it will ittrate 5 times)\n",
    "model.fit(x_train, y_train, batch_size=16, epochs=5, verbose=1)"
   ]
  },
  {
   "cell_type": "code",
   "execution_count": 16,
   "metadata": {},
   "outputs": [],
   "source": [
    "# from tensorflow.keras import Sequential\n",
    "# from tensorflow.keras.layers import Dense\n",
    "\n",
    "# model = Sequential()\n",
    "\n",
    "# # Input Layer\n",
    "# model.add(Dense(x.shape[1], activation=\"relu\", input_dim=x.shape[1]))\n",
    "\n",
    "# # Hidden Layer\n",
    "# model.add(Dense(512, kernel_initializer=\"normal\", activation=\"relu\"))\n",
    "# model.add(Dense(512, kernel_initializer=\"normal\", activation=\"relu\"))\n",
    "# model.add(Dense(256, kernel_initializer=\"normal\", activation=\"relu\"))\n",
    "# model.add(Dense(128, kernel_initializer=\"normal\", activation=\"relu\"))\n",
    "# model.add(Dense(64, kernel_initializer=\"normal\", activation=\"relu\"))\n",
    "# model.add(Dense(32, kernel_initializer=\"normal\", activation=\"relu\"))\n",
    "# # Output Layer\n",
    "# model.add(Dense(1, kernel_initializer=\"normal\", activation=\"relu\"))\n",
    "\n",
    "\n",
    "# # Compile the network\n",
    "\n",
    "# model.compile(loss=\"mse\", optimizer=\"adam\", metrics=[\"mse\", \"mae\", 'accuracy' ])\n",
    "# model.summary()\n",
    "\n",
    "\n",
    "# # model.fit(x_train, y_train, batch_size=10, epochs=5, verbose=1)\n"
   ]
  },
  {
   "cell_type": "markdown",
   "metadata": {},
   "source": [
    "### Evaluate model using Test Data set   "
   ]
  },
  {
   "cell_type": "code",
   "execution_count": 17,
   "metadata": {},
   "outputs": [
    {
     "name": "stdout",
     "output_type": "stream",
     "text": [
      "\u001b[1m128/128\u001b[0m \u001b[32m━━━━━━━━━━━━━━━━━━━━\u001b[0m\u001b[37m\u001b[0m \u001b[1m1s\u001b[0m 3ms/step - loss: 4004461056.0000 - mae: 44020.8711 - mse: 4004461056.0000\n",
      "Test Loss: [3909441536.0, 3909441536.0, 43719.93359375]\n"
     ]
    }
   ],
   "source": [
    "loss = model.evaluate(x_test, y_test)\n",
    "print(f'Test Loss: {loss}')"
   ]
  },
  {
   "cell_type": "markdown",
   "metadata": {},
   "source": [
    "## Sample Predection"
   ]
  },
  {
   "cell_type": "markdown",
   "metadata": {},
   "source": [
    "### Predict test samples"
   ]
  },
  {
   "cell_type": "code",
   "execution_count": 18,
   "metadata": {},
   "outputs": [
    {
     "name": "stdout",
     "output_type": "stream",
     "text": [
      "\u001b[1m128/128\u001b[0m \u001b[32m━━━━━━━━━━━━━━━━━━━━\u001b[0m\u001b[37m\u001b[0m \u001b[1m0s\u001b[0m 3ms/step\n"
     ]
    }
   ],
   "source": [
    "# predict test samples with our model\n",
    "y_pred = model.predict(x_test)"
   ]
  },
  {
   "cell_type": "code",
   "execution_count": 19,
   "metadata": {},
   "outputs": [],
   "source": [
    "# Convert all elements to integers\n",
    "y_pred = y_pred.astype(int)"
   ]
  },
  {
   "cell_type": "markdown",
   "metadata": {},
   "source": [
    "### Display the i th values"
   ]
  },
  {
   "cell_type": "code",
   "execution_count": 20,
   "metadata": {},
   "outputs": [
    {
     "name": "stdout",
     "output_type": "stream",
     "text": [
      "Displaying y_pred[(1,)] in console 1D array of 10 values (Dense o/p layes = 1)\n",
      "[170137]\n",
      "\n",
      "In the above o/p, Maximum values for y_pred[(1,)] is:\n",
      "\n",
      "153000\n"
     ]
    }
   ],
   "source": [
    "# change I values as wish it will be possition of array alone not actual values\n",
    "i = 1,\n",
    "\n",
    "# this will print 10 values in 1D array, because we give output dense layer as 10\n",
    "print(f\"Displaying y_pred[{i}] in console 1D array of 10 values (Dense o/p layes = 1)\")\n",
    "print(y_pred[i])\n",
    "\n",
    "# in 1D array / y_pred[i], maximum values (consider predected -> o/p will be high)\n",
    "print(f\"\\nIn the above o/p, Maximum values for y_pred[{i}] is:\")\n",
    "np.argmax(y_pred[i])\n",
    "print()\n",
    "print(y_test[i])"
   ]
  },
  {
   "cell_type": "markdown",
   "metadata": {},
   "source": [
    "## Visuals values in to console"
   ]
  },
  {
   "cell_type": "code",
   "execution_count": 21,
   "metadata": {},
   "outputs": [
    {
     "name": "stdout",
     "output_type": "stream",
     "text": [
      "shape of y_pred (4087, 1)\n",
      "shape of y_test (4087,)\n"
     ]
    }
   ],
   "source": [
    "print( 'shape of y_pred', y_pred.shape)\n",
    "print( 'shape of y_test', y_test.shape)"
   ]
  },
  {
   "cell_type": "code",
   "execution_count": 22,
   "metadata": {},
   "outputs": [
    {
     "name": "stdout",
     "output_type": "stream",
     "text": [
      "after Reshape: \n",
      "shape of y_pred (4087,)\n",
      "shape of y_test (4087,)\n"
     ]
    }
   ],
   "source": [
    "# First convert y_pred values to same as y_test with correct predection values\n",
    "y_pred_label = y_pred.reshape(-1)\n",
    "\n",
    "print( 'after Reshape: \\nshape of y_pred', y_pred_label.shape)\n",
    "print( 'shape of y_test', y_test.shape)"
   ]
  },
  {
   "cell_type": "code",
   "execution_count": 23,
   "metadata": {},
   "outputs": [
    {
     "name": "stdout",
     "output_type": "stream",
     "text": [
      "First 5 prect values is:\n",
      " [140008 170137 114476 374026 338243]\n",
      "First 5 actual values is:\n",
      " [ 98900 153000  91300 345200 344100]\n"
     ]
    }
   ],
   "source": [
    "# now print pred values\n",
    "print(\"First 5 prect values is:\\n\", y_pred_label[:5])\n",
    "# now print actual values\n",
    "print(\"First 5 actual values is:\\n\", y_test[:5])"
   ]
  },
  {
   "cell_type": "code",
   "execution_count": 30,
   "metadata": {},
   "outputs": [
    {
     "name": "stdout",
     "output_type": "stream",
     "text": [
      "\n",
      "Confusion Matrix is:\n",
      " [[0 0 0 1 0 0 0 0 0 0 0 0 0 0 0 0 0 0 0 0]\n",
      " [0 0 0 0 1 0 0 0 0 0 0 0 0 0 0 0 0 0 0 0]\n",
      " [0 0 0 0 0 0 0 1 0 0 0 0 0 0 0 0 0 0 0 0]\n",
      " [0 0 0 0 0 0 0 0 0 0 0 0 0 0 0 0 0 0 0 0]\n",
      " [0 0 0 0 0 0 0 0 0 0 0 0 0 0 0 0 0 0 0 0]\n",
      " [0 0 0 0 0 0 1 0 0 0 0 0 0 0 0 0 0 0 0 0]\n",
      " [0 0 0 0 0 0 0 0 0 0 0 0 0 0 0 0 0 0 0 0]\n",
      " [0 0 0 0 0 0 0 0 0 0 0 0 0 0 0 0 0 0 0 0]\n",
      " [0 0 0 0 0 0 0 0 0 0 0 0 0 0 0 0 0 0 0 0]\n",
      " [0 0 0 0 0 0 0 0 0 0 0 0 0 1 0 0 0 0 0 0]\n",
      " [0 0 0 0 0 0 0 0 1 0 0 0 0 0 0 0 0 0 0 0]\n",
      " [0 0 0 0 0 0 0 0 0 0 0 0 1 0 0 0 0 0 0 0]\n",
      " [0 0 0 0 0 0 0 0 0 0 0 0 0 0 0 0 0 0 0 0]\n",
      " [0 0 0 0 0 0 0 0 0 0 0 0 0 0 0 0 0 0 0 0]\n",
      " [0 0 0 0 0 0 0 0 0 0 0 0 0 0 0 1 0 0 0 0]\n",
      " [0 0 0 0 0 0 0 0 0 0 0 0 0 0 0 0 0 0 0 0]\n",
      " [0 0 0 0 0 0 0 0 0 0 0 0 0 0 0 0 0 0 0 0]\n",
      " [0 0 0 0 0 0 0 0 0 0 0 0 0 0 0 0 1 0 0 0]\n",
      " [0 0 0 0 0 0 0 0 0 0 0 0 0 0 0 0 0 0 0 1]\n",
      " [0 0 0 0 0 0 0 0 0 0 0 0 0 0 0 0 0 0 0 0]]\n"
     ]
    },
    {
     "data": {
      "image/png": "[encoded data removed]",
      "text/plain": [
       "<Figure size 1000x700 with 2 Axes>"
      ]
     },
     "metadata": {},
     "output_type": "display_data"
    }
   ],
   "source": [
    "# Confution matrix values\n",
    "from sklearn.metrics import confusion_matrix, accuracy_score\n",
    "\n",
    "# if you face error OOM \"ResourceExhaustedError\"\n",
    "# \"It seems like you are encountering an \"Out of Memory (OOM)\" error. This typically happens when the operation is trying to allocate more memory than what is available on your CPU.\"\n",
    "\n",
    "y_test_sample = y_test[:10]  # Adjust the size as needed\n",
    "y_pred_sample = y_pred_label[:10]\n",
    "\n",
    "# now check with confusion matrics with y_test & y_pred_label\n",
    "# confusion_metrics = tf.math.confusion_matrix(labels=y_test_sample, predictions=y_pred_sample)\n",
    "confusion_metrics = confusion_matrix(y_test_sample, y_pred_sample)\n",
    "print(\"\\nConfusion Matrix is:\\n\", confusion_metrics)\n",
    "\n",
    "\n",
    "# Display in visuvalisation\n",
    "import seaborn as sn\n",
    "plt.figure(figsize=(10,7))\n",
    "sn.heatmap(confusion_metrics, annot=True, fmt= 'd')\n",
    "plt.xlabel(\"Predection\")\n",
    "plt.ylabel(\"Actual\")\n",
    "plt.show()\n"
   ]
  },
  {
   "cell_type": "code",
   "execution_count": null,
   "metadata": {},
   "outputs": [
    {
     "data": {
      "text/plain": [
       "(4087, 1)"
      ]
     },
     "execution_count": 89,
     "metadata": {},
     "output_type": "execute_result"
    }
   ],
   "source": [
    "y_pred.shape\n"
   ]
  },
  {
   "cell_type": "code",
   "execution_count": null,
   "metadata": {},
   "outputs": [
    {
     "data": {
      "text/plain": [
       "(4087,)"
      ]
     },
     "execution_count": 90,
     "metadata": {},
     "output_type": "execute_result"
    }
   ],
   "source": [
    "y_test.shape"
   ]
  },
  {
   "cell_type": "code",
   "execution_count": null,
   "metadata": {},
   "outputs": [],
   "source": [
    "y_pred_label = y_pred.reshape(-1)"
   ]
  },
  {
   "cell_type": "code",
   "execution_count": null,
   "metadata": {},
   "outputs": [
    {
     "data": {
      "text/plain": [
       "(4087,)"
      ]
     },
     "execution_count": 94,
     "metadata": {},
     "output_type": "execute_result"
    }
   ],
   "source": [
    "y_pred_label.shape"
   ]
  },
  {
   "cell_type": "code",
   "execution_count": 28,
   "metadata": {},
   "outputs": [
    {
     "data": {
      "text/plain": [
       "numpy.ndarray"
      ]
     },
     "execution_count": 28,
     "metadata": {},
     "output_type": "execute_result"
    }
   ],
   "source": [
    "type(y_pred)\n",
    "type(y_test)"
   ]
  },
  {
   "cell_type": "code",
   "execution_count": 30,
   "metadata": {},
   "outputs": [
    {
     "data": {
      "text/plain": [
       "array([[132442.36],\n",
       "       [144885.77],\n",
       "       [109477.24],\n",
       "       ...,\n",
       "       [155449.3 ],\n",
       "       [212718.45],\n",
       "       [232182.8 ]], dtype=float32)"
      ]
     },
     "execution_count": 30,
     "metadata": {},
     "output_type": "execute_result"
    }
   ],
   "source": [
    "y_pred"
   ]
  }
 ],
 "metadata": {
  "kernelspec": {
   "display_name": "base",
   "language": "python",
   "name": "python3"
  },
  "language_info": {
   "codemirror_mode": {
    "name": "ipython",
    "version": 3
   },
   "file_extension": ".py",
   "mimetype": "text/x-python",
   "name": "python",
   "nbconvert_exporter": "python",
   "pygments_lexer": "ipython3",
   "version": "3.12.7"
  }
 },
 "nbformat": 4,
 "nbformat_minor": 2
}
